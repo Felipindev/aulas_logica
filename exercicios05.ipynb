{
 "cells": [
  {
   "cell_type": "markdown",
   "metadata": {},
   "source": [
    "Exibindo numeros pares de 1 a 20"
   ]
  },
  {
   "cell_type": "code",
   "execution_count": 18,
   "metadata": {},
   "outputs": [
    {
     "name": "stdout",
     "output_type": "stream",
     "text": [
      "0 é par\n",
      "1 é impar\n",
      "2 é par\n",
      "3 é impar\n",
      "4 é par\n",
      "5 é impar\n",
      "6 é par\n",
      "7 é impar\n",
      "8 é par\n",
      "9 é impar\n",
      "10 é par\n",
      "11 é impar\n",
      "12 é par\n",
      "13 é impar\n",
      "14 é par\n",
      "15 é impar\n",
      "16 é par\n",
      "17 é impar\n",
      "18 é par\n",
      "19 é impar\n",
      "20 é par\n"
     ]
    }
   ],
   "source": [
    "\n",
    "numero = 0\n",
    "while numero <= 20:\n",
    "   if numero % 2 == 0:\n",
    "        print(f'{numero} é par')\n",
    "        numero = numero +1 \n",
    "   else:\n",
    "        print(f'{numero} é impar')\n",
    "        numero = numero +1 "
   ]
  },
  {
   "cell_type": "markdown",
   "metadata": {},
   "source": [
    "6 numeros da mega sena aleatorios"
   ]
  },
  {
   "cell_type": "code",
   "execution_count": 3,
   "metadata": {},
   "outputs": [
    {
     "name": "stdout",
     "output_type": "stream",
     "text": [
      "15\n",
      "45\n",
      "3\n",
      "47\n",
      "22\n",
      "25\n"
     ]
    }
   ],
   "source": [
    "q_numero = 0\n",
    "import random  \n",
    "while q_numero < 6:\n",
    "    nr_sorteado = random.randint(1, 60)\n",
    "    print(nr_sorteado)\n",
    "    q_numero = q_numero + 1\n",
    "     \n",
    "\n",
    "\n"
   ]
  },
  {
   "cell_type": "markdown",
   "metadata": {},
   "source": [
    "Receba alguns número e verifique a soma e a quantidade de todos os pares e ímpares digitados, digite 0 para não receber mais."
   ]
  },
  {
   "cell_type": "code",
   "execution_count": 1,
   "metadata": {},
   "outputs": [
    {
     "name": "stdout",
     "output_type": "stream",
     "text": [
      "a soma é 15, tem 2 pares e 3 ímpares\n"
     ]
    }
   ],
   "source": [
    "soma = 0\n",
    "par = 0\n",
    "impar = 0\n",
    "while True:\n",
    "    numero = int(input('Digite o número desejado: [ 0 para terminar]'))\n",
    "    if numero == 0:\n",
    "        break\n",
    "    elif numero % 2 == 0:\n",
    "        par = par + 1\n",
    "        soma = soma + numero \n",
    "        \n",
    "    else:\n",
    "     impar = impar + 1\n",
    "     soma = soma + numero \n",
    "\n",
    "print(f'a soma é {soma}, tem {par} pares e {impar} ímpares') \n"
   ]
  },
  {
   "cell_type": "markdown",
   "metadata": {},
   "source": [
    "Faça um programa em Python que leia 5 valores inteiros e:\n",
    "• Encontre e mostre o maior valor\n",
    "• Encontre e mostre o menor valor\n",
    "• Calcule e mostre a média dos números lidos"
   ]
  },
  {
   "cell_type": "code",
   "execution_count": 67,
   "metadata": {},
   "outputs": [
    {
     "name": "stdout",
     "output_type": "stream",
     "text": [
      "0\n",
      "1\n",
      "2\n",
      "3\n",
      "4\n"
     ]
    }
   ],
   "source": [
    "\n",
    "for vi in range(5):\n",
    "    int(input('digite um numero inteiro'))\n",
    "    print(vi)\n",
    "\n",
    "\n",
    "\n",
    "\n",
    "\n",
    "\n",
    "     \n",
    "        \n",
    "\n",
    "\n",
    "\n",
    "\n"
   ]
  }
 ],
 "metadata": {
  "kernelspec": {
   "display_name": "Python 3",
   "language": "python",
   "name": "python3"
  },
  "language_info": {
   "codemirror_mode": {
    "name": "ipython",
    "version": 3
   },
   "file_extension": ".py",
   "mimetype": "text/x-python",
   "name": "python",
   "nbconvert_exporter": "python",
   "pygments_lexer": "ipython3",
   "version": "3.12.2"
  }
 },
 "nbformat": 4,
 "nbformat_minor": 2
}
