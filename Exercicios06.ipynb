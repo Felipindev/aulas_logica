{
 "cells": [
  {
   "cell_type": "markdown",
   "metadata": {},
   "source": [
    "usando for, exiba todos os numeros impares de 1 a 40"
   ]
  },
  {
   "cell_type": "code",
   "execution_count": 4,
   "metadata": {},
   "outputs": [
    {
     "name": "stdout",
     "output_type": "stream",
     "text": [
      "1 é ímpar\n",
      "3 é ímpar\n",
      "5 é ímpar\n",
      "7 é ímpar\n",
      "9 é ímpar\n",
      "11 é ímpar\n",
      "13 é ímpar\n",
      "15 é ímpar\n",
      "17 é ímpar\n",
      "19 é ímpar\n",
      "21 é ímpar\n",
      "23 é ímpar\n",
      "25 é ímpar\n",
      "27 é ímpar\n",
      "29 é ímpar\n",
      "31 é ímpar\n",
      "33 é ímpar\n",
      "35 é ímpar\n",
      "37 é ímpar\n",
      "39 é ímpar\n"
     ]
    }
   ],
   "source": [
    "for x in range(40):\n",
    "    if x % 2 == 1:\n",
    "        print(f'{x} é ímpar')"
   ]
  },
  {
   "cell_type": "markdown",
   "metadata": {},
   "source": [
    "6 numeros da mega-sena aleatórios"
   ]
  },
  {
   "cell_type": "code",
   "execution_count": 21,
   "metadata": {},
   "outputs": [
    {
     "name": "stdout",
     "output_type": "stream",
     "text": [
      "40\n",
      "60\n",
      "52\n",
      "15\n",
      "20\n",
      "16\n"
     ]
    }
   ],
   "source": [
    "import random\n",
    "for x in range(6):\n",
    "    nr = random.randint(1,60)\n",
    "    print(nr)"
   ]
  },
  {
   "cell_type": "markdown",
   "metadata": {},
   "source": [
    "receba 5 numeros e verifique a soma e a quantidade de impares e pares digitados"
   ]
  },
  {
   "cell_type": "code",
   "execution_count": 27,
   "metadata": {},
   "outputs": [
    {
     "name": "stdout",
     "output_type": "stream",
     "text": [
      " os pares são 3 e os impares 2, a soma é 15.0\n"
     ]
    }
   ],
   "source": [
    "pares = 0\n",
    "impares = 0\n",
    "soma = 0\n",
    "for nr in range (5):\n",
    "    numero =float(input('Digite um numero:'))\n",
    "    if nr % 2== 0:\n",
    "        pares = pares + 1\n",
    "    else:\n",
    "        impares = impares + 1\n",
    "    soma += numero\n",
    "print(f' os pares são {pares} e os impares {impares}, a soma é {soma}')"
   ]
  },
  {
   "cell_type": "markdown",
   "metadata": {},
   "source": [
    "Solicite os parâmetros de início, fim e passo para o laço de repetição usando a função range()\n",
    "e exiba o valor atual da variável de controle a cada iteração. range( x , y , z )"
   ]
  },
  {
   "cell_type": "code",
   "execution_count": 23,
   "metadata": {},
   "outputs": [
    {
     "name": "stdout",
     "output_type": "stream",
     "text": [
      "1\n",
      "7\n",
      "13\n",
      "19\n",
      "25\n",
      "31\n",
      "37\n",
      "43\n",
      "49\n",
      "55\n",
      "61\n",
      "67\n",
      "73\n"
     ]
    }
   ],
   "source": [
    "pi = int(input('Digite o valor do parametro de inicio:'))\n",
    "pf = int(input('Digite o valor do parametro de fim:'))\n",
    "pp = int(input('Digite o valor do parametro de passo:'))\n",
    "for x in range(pi,pf,pp):\n",
    "    print(x)"
   ]
  },
  {
   "cell_type": "markdown",
   "metadata": {},
   "source": [
    "Ler do teclado a idade e o sexo de 10 pessoas, calcule e imprima:\n",
    "• idade média das mulheres\n",
    "• idade média dos homens\n",
    "• idade média do grupo"
   ]
  },
  {
   "cell_type": "code",
   "execution_count": 24,
   "metadata": {},
   "outputs": [
    {
     "name": "stdout",
     "output_type": "stream",
     "text": [
      "A idade media dos homens é 25.0, a idade media das mulheres é 45.0 e a do grupo é 35.0\n"
     ]
    }
   ],
   "source": [
    "homens = 0\n",
    "mulheres = 0\n",
    "idade_homens_total = 0\n",
    "idade_mulheres_total = 0\n",
    "\n",
    "for x in range (10):\n",
    "    sexo = input('Digite seu gênero: [Homem/Mulher]')\n",
    "    if sexo == \"Homem\":\n",
    "        idade_homens = int(input('Digite sua idade:'))\n",
    "        homens += 1\n",
    "        idade_homens_total += idade_homens\n",
    "    else:\n",
    "        idade_mulheres = int(input('Digite sua idade:'))\n",
    "        mulheres += 1\n",
    "        idade_mulheres_total = idade_mulheres_total + idade_mulheres\n",
    "        \n",
    "imm = idade_mulheres_total / mulheres\n",
    "imh = idade_homens_total / homens\n",
    "img = (idade_homens_total + idade_mulheres_total) / (mulheres + homens)\n",
    "print(f'A idade media dos homens é {imh}, a idade media das mulheres é {imm} e a do grupo é {img}')"
   ]
  },
  {
   "cell_type": "markdown",
   "metadata": {},
   "source": [
    "6. Escreva um programa que mostre todos os números entre 5 e 100 que são divisíveis por 7. Os\n",
    "números obtidos devem ser impressos em sequência."
   ]
  },
  {
   "cell_type": "code",
   "execution_count": 12,
   "metadata": {},
   "outputs": [
    {
     "name": "stdout",
     "output_type": "stream",
     "text": [
      " O número 7 é divisivel por 7\n",
      " O número 14 é divisivel por 7\n",
      " O número 21 é divisivel por 7\n",
      " O número 28 é divisivel por 7\n",
      " O número 35 é divisivel por 7\n",
      " O número 42 é divisivel por 7\n",
      " O número 49 é divisivel por 7\n",
      " O número 56 é divisivel por 7\n",
      " O número 63 é divisivel por 7\n",
      " O número 70 é divisivel por 7\n",
      " O número 77 é divisivel por 7\n",
      " O número 84 é divisivel por 7\n",
      " O número 91 é divisivel por 7\n",
      " O número 98 é divisivel por 7\n"
     ]
    }
   ],
   "source": [
    "for numero in range(5,101):\n",
    "    if numero % 7 == 0:\n",
    "        print(f' O número {numero} é divisivel por 7')"
   ]
  },
  {
   "cell_type": "markdown",
   "metadata": {},
   "source": [
    "7. Escreva um programa em Python que receba uma string do usuário e mostre de trás para\n",
    "frente."
   ]
  },
  {
   "cell_type": "code",
   "execution_count": 41,
   "metadata": {},
   "outputs": [
    {
     "name": "stdout",
     "output_type": "stream",
     "text": [
      "odracir\n"
     ]
    }
   ],
   "source": [
    "letras = input('Digite oq quiser kkkk')\n",
    "letras_invertido = \"\".join(reversed(letras))\n",
    "print(letras_invertido)"
   ]
  },
  {
   "cell_type": "code",
   "execution_count": 36,
   "metadata": {},
   "outputs": [
    {
     "name": "stdout",
     "output_type": "stream",
     "text": [
      "epilef\n"
     ]
    }
   ],
   "source": [
    "palavra = input('digite uma palavra')\n",
    "nova_palavra = \"\"\n",
    "for letra in palavra :\n",
    "    nova_palavra = letra + nova_palavra\n",
    "print(nova_palavra)"
   ]
  },
  {
   "cell_type": "markdown",
   "metadata": {},
   "source": [
    "DESAFIO Solicita ao usuário o número que deseja treinar.\n",
    "Apresenta perguntas de multiplicação de 1 a 10 para o número escolhido.\n",
    "Valida cada resposta do usuário, fornecendo feedback em tempo real: \"CORRETO!\" para respostas corretas. \"QUE PENA, VOCÊ ERROU! O valor correto é X.\" para respostas incorretas, substituindo \"X\" pelo valor\n",
    "correto.\n",
    "Exibe estatísticas ao final da sessão: \"Total de acertos: Y\"\n",
    "\"Total de erros: Z\""
   ]
  },
  {
   "cell_type": "code",
   "execution_count": 26,
   "metadata": {},
   "outputs": [
    {
     "name": "stdout",
     "output_type": "stream",
     "text": [
      "+++++++++++++++++++++++\n",
      "+   Jogo da Tabuada   +\n",
      "+++++++++++++++++++++++\n",
      "CORRETO!\n",
      "CORRETO!\n",
      "CORRETO!\n",
      "CORRETO!\n",
      "CORRETO!\n",
      "CORRETO!\n",
      "CORRETO!\n",
      "CORRETO!\n",
      "CORRETO!\n",
      "CORRETO!\n",
      "O JOGO ACABOU! VOCÊ ACERTOU 10 E ERROU 0\n"
     ]
    }
   ],
   "source": [
    "print('+++++++++++++++++++++++')\n",
    "print('+   Jogo da Tabuada   +')\n",
    "print('+++++++++++++++++++++++')\n",
    "\n",
    "\n",
    "\n",
    "nu = int(input('Quer treinar a tabuada? ESCOLHA UM NÚMERO: '))\n",
    "multiplicador = 1\n",
    "ta = 0\n",
    "te = 0\n",
    "\n",
    "for numero in range(1, 11):  \n",
    "    valor_certo = nu * multiplicador\n",
    "    perguntas = int(input(f'Quanto é {nu} vezes {multiplicador}'))\n",
    "    \n",
    "    if perguntas == valor_certo:\n",
    "        print('CORRETO!')\n",
    "        ta += 1\n",
    "    else:\n",
    "        print(f'QUE PENA, VOCÊ ERROU! O valor correto é {valor_certo}')\n",
    "        te += 1\n",
    "    \n",
    "    multiplicador += 1\n",
    "\n",
    "print(f'O JOGO ACABOU! VOCÊ ACERTOU {ta} E ERROU {te}')\n",
    "\n"
   ]
  },
  {
   "cell_type": "code",
   "execution_count": null,
   "metadata": {},
   "outputs": [],
   "source": []
  }
 ],
 "metadata": {
  "kernelspec": {
   "display_name": "Python 3",
   "language": "python",
   "name": "python3"
  },
  "language_info": {
   "codemirror_mode": {
    "name": "ipython",
    "version": 3
   },
   "file_extension": ".py",
   "mimetype": "text/x-python",
   "name": "python",
   "nbconvert_exporter": "python",
   "pygments_lexer": "ipython3",
   "version": "3.12.3"
  }
 },
 "nbformat": 4,
 "nbformat_minor": 2
}
