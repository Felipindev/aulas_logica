{
 "cells": [
  {
   "cell_type": "markdown",
   "metadata": {},
   "source": [
    "1 - imprimi numero de 1 a 7 e diz o dia da semana correspondente "
   ]
  },
  {
   "cell_type": "code",
   "execution_count": 1,
   "metadata": {},
   "outputs": [
    {
     "name": "stdout",
     "output_type": "stream",
     "text": [
      "numero inválido!\n"
     ]
    }
   ],
   "source": [
    "dia = int(input('digite um numero de 1 a 7:'))\n",
    "match dia:\n",
    "    case 1:\n",
    "        print('é segunda-feira!')\n",
    "    case 2:\n",
    "        print('é terça-feira')\n",
    "    case 3:\n",
    "        print('é quarta -feira')\n",
    "    case 4:\n",
    "        print('é quinta-feira')\n",
    "    case 5:\n",
    "        print('é sexta-feira')\n",
    "    case 6:\n",
    "        print('é sábado')\n",
    "    case 7:\n",
    "        print('é domingo')\n",
    "    case _:\n",
    "        print('numero inválido!')"
   ]
  },
  {
   "cell_type": "markdown",
   "metadata": {},
   "source": [
    "2 - ano atual e ano de nascimento/faixa etária"
   ]
  },
  {
   "cell_type": "code",
   "execution_count": 2,
   "metadata": {},
   "outputs": [
    {
     "name": "stdout",
     "output_type": "stream",
     "text": [
      "sua faixa etária é \"adulto\"\n"
     ]
    }
   ],
   "source": [
    "ano = int(input('digite o ano atual:'))\n",
    "nascimento = int(input('digite sua data de nascimento:'))\n",
    "fe = ano - nascimento\n",
    "if fe <= 10:\n",
    "    print('sua faixa etária é \"criança\"')\n",
    "if  fe< 18:\n",
    "    print('sua faixa etária é \"adolescente\"')\n",
    "if fe <= 60:\n",
    "    print('sua faixa etária é \"adulto\"')\n",
    "if fe > 60:\n",
    "    print('sua faixa etária é \"idoso\"')"
   ]
  },
  {
   "cell_type": "markdown",
   "metadata": {},
   "source": [
    "3 - nome do mes e quantidade de dias coreespondentes"
   ]
  },
  {
   "cell_type": "code",
   "execution_count": 21,
   "metadata": {},
   "outputs": [
    {
     "name": "stdout",
     "output_type": "stream",
     "text": [
      "fevereiro tem 29 dias\n"
     ]
    }
   ],
   "source": [
    "mes = input('digite o nome do mês (tudo em minúsculo):')\n",
    "match mes:\n",
    "    case 'janeiro':\n",
    "        print(f'{mes} tem 31 dias')\n",
    "    case 'fevereiro':\n",
    "        print(f'{mes} tem 28 ou 29 dias')\n",
    "    case 'março':\n",
    "        print(f'{mes} tem 31 dias')\n",
    "    case 'abril':\n",
    "        print(f'{mes} tem 30 dias')\n",
    "    case 'maio':\n",
    "        print(f'{mes} tem 31 dias')\n",
    "    case 'junho':\n",
    "        print(f'{mes} tem 30 dias')\n",
    "    case 'julho':\n",
    "        print(f'{mes} tem 31 dias')\n",
    "    case 'agosto':\n",
    "        print(f'{mes} tem 31 dias')\n",
    "    case 'setembro':\n",
    "        print(f'{mes} tem 30 dias')\n",
    "    case 'outubro':\n",
    "        print(f'{mes} tem 31 dias')\n",
    "    case \"novembro\":\n",
    "        print(f'{mes} tem 30 dias')\n",
    "    case 'dezembro':\n",
    "        print(f'{mes} tem 31 dias')"
   ]
  },
  {
   "cell_type": "markdown",
   "metadata": {},
   "source": [
    "4 - media das notas e aprovado ou desaprovado ou em recuperação"
   ]
  },
  {
   "cell_type": "code",
   "execution_count": 4,
   "metadata": {},
   "outputs": [
    {
     "name": "stdout",
     "output_type": "stream",
     "text": [
      "aprovado\n"
     ]
    }
   ],
   "source": [
    "n1 = float(input('digite sua nota 1:'))\n",
    "n2 = float(input('digite sua nota 2:'))\n",
    "media = (n1 + n2)/2\n",
    "if media >= 7:\n",
    "    print('aprovado')\n",
    "elif media >= 5 and media < 7:\n",
    "    print('está de recuperação')\n",
    "elif media <5 :\n",
    "    print('reprovado')"
   ]
  },
  {
   "cell_type": "markdown",
   "metadata": {},
   "source": [
    "5 - salario e aumento com regras"
   ]
  },
  {
   "cell_type": "code",
   "execution_count": 28,
   "metadata": {},
   "outputs": [
    {
     "name": "stdout",
     "output_type": "stream",
     "text": [
      "seu novo salario é 5400.0\n"
     ]
    }
   ],
   "source": [
    "salario = float(input('digite o valor do seu salario:'))\n",
    "r1 = 12 /100 * salario + salario\n",
    "r2 = 10/100 * salario + salario\n",
    "r3 = 8/100 * salario + salario\n",
    "if salario <= 2000:\n",
    "    print(f'seu novo salario é {r1}')\n",
    "elif salario >2000 and salario<= 4000:\n",
    "    print(f'seu novo salario é {r2}')\n",
    "elif salario > 4000:\n",
    "    print(f'seu novo salario é {r3}')"
   ]
  }
 ],
 "metadata": {
  "kernelspec": {
   "display_name": "Python 3",
   "language": "python",
   "name": "python3"
  },
  "language_info": {
   "codemirror_mode": {
    "name": "ipython",
    "version": 3
   },
   "file_extension": ".py",
   "mimetype": "text/x-python",
   "name": "python",
   "nbconvert_exporter": "python",
   "pygments_lexer": "ipython3",
   "version": "3.12.3"
  }
 },
 "nbformat": 4,
 "nbformat_minor": 2
}
