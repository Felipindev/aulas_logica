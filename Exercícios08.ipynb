{
 "cells": [
  {
   "cell_type": "markdown",
   "metadata": {},
   "source": [
    "1 -crie uma lista de 1 a 10 e imprima cada numero"
   ]
  },
  {
   "cell_type": "code",
   "execution_count": 2,
   "metadata": {},
   "outputs": [
    {
     "name": "stdout",
     "output_type": "stream",
     "text": [
      "0\n",
      "1\n",
      "2\n",
      "3\n",
      "4\n",
      "5\n",
      "6\n",
      "7\n",
      "8\n",
      "9\n",
      "10\n"
     ]
    }
   ],
   "source": [
    "numeros = ['0','1','2','3','4','5','6','7','8','9','10']\n",
    "for lista in numeros:\n",
    "    print(lista)"
   ]
  },
  {
   "cell_type": "markdown",
   "metadata": {},
   "source": [
    "2 -Crie uma lista com os nomes de três amigos e imprima cada nome."
   ]
  },
  {
   "cell_type": "code",
   "execution_count": 3,
   "metadata": {},
   "outputs": [
    {
     "name": "stdout",
     "output_type": "stream",
     "text": [
      "Messi\n",
      "Cristiano Ronaldo\n",
      "Neymar\n"
     ]
    }
   ],
   "source": [
    "nome = ['Messi', 'Cristiano Ronaldo','Neymar']\n",
    "for lista in nome:\n",
    "    print(lista)"
   ]
  },
  {
   "cell_type": "markdown",
   "metadata": {},
   "source": [
    "3 - Crie uma lista com os meses do ano e imprima apenas os meses que começam com \"J\"."
   ]
  },
  {
   "cell_type": "code",
   "execution_count": 27,
   "metadata": {},
   "outputs": [
    {
     "name": "stdout",
     "output_type": "stream",
     "text": [
      "Janeiro\n",
      "Junho\n",
      "Julho\n"
     ]
    }
   ],
   "source": [
    "listameses = ['Janeiro', 'Fevereiro', 'Março','Abril', 'Maio', 'Junho', 'Julho','Agosto', 'Setembro', 'Outubro','Novembro', 'Dezembro']\n",
    "for meses in listameses:\n",
    "    if meses[0] == 'J':\n",
    "        print(meses)\n"
   ]
  },
  {
   "cell_type": "markdown",
   "metadata": {},
   "source": [
    "4 Crie uma lista com as palavras \"gato\", \"cachorro\", \"pássaro\" e \"peixe\", e imprima cada palavra\n",
    "em maiúsculas."
   ]
  },
  {
   "cell_type": "code",
   "execution_count": 29,
   "metadata": {},
   "outputs": [
    {
     "name": "stdout",
     "output_type": "stream",
     "text": [
      "GATO\n",
      "CACHORRO\n",
      "PÁSSARO\n",
      "PEIXE\n"
     ]
    }
   ],
   "source": [
    "listapalavras = ['gato', 'cachorro', 'pássaro', 'peixe']\n",
    "for palavra in listapalavras:\n",
    "    print(palavra.upper())"
   ]
  },
  {
   "cell_type": "markdown",
   "metadata": {},
   "source": [
    "5Crie uma lista com 5 números aleatórios e exiba o nr e seu dobro desse."
   ]
  },
  {
   "cell_type": "code",
   "execution_count": 72,
   "metadata": {},
   "outputs": [
    {
     "name": "stdout",
     "output_type": "stream",
     "text": [
      "51 102\n",
      "2 4\n",
      "30 60\n",
      "10 20\n",
      "92 184\n"
     ]
    }
   ],
   "source": [
    "import random\n",
    "for x in range(1,6):\n",
    "    nr = random.randint(1,100)\n",
    "    print(nr,nr*2)\n",
    "\n"
   ]
  },
  {
   "cell_type": "markdown",
   "metadata": {},
   "source": [
    "6 Crie uma lista com valores numéricos e encontre o maior e o menor elemento dessa lista."
   ]
  },
  {
   "cell_type": "code",
   "execution_count": 51,
   "metadata": {},
   "outputs": [
    {
     "name": "stdout",
     "output_type": "stream",
     "text": [
      "1 207\n"
     ]
    }
   ],
   "source": [
    "listavalores = [100,1,207,37,45]\n",
    "listavalores.sort()\n",
    "print(listavalores[0],listavalores[4])\n",
    "\n",
    "    "
   ]
  },
  {
   "cell_type": "markdown",
   "metadata": {},
   "source": [
    "7 Receba uma palavra do usuário e calcule quantas vogais há nesta palavra."
   ]
  },
  {
   "cell_type": "code",
   "execution_count": 55,
   "metadata": {},
   "outputs": [
    {
     "name": "stdout",
     "output_type": "stream",
     "text": [
      "3\n"
     ]
    }
   ],
   "source": [
    "palavra = input('Digite uma palavra para ver quantas vogais há:')\n",
    "vogais = ['a','e','i', 'o', 'u']\n",
    "q_vogais = 0\n",
    "for letra in palavra:\n",
    "    if letra in vogais :\n",
    "        q_vogais +=1\n",
    "print(q_vogais)\n",
    "\n"
   ]
  },
  {
   "cell_type": "markdown",
   "metadata": {},
   "source": [
    "8 Nessa string ‘Gol;Corsa;Palio;Monza;Fusca;’, faça a separação desses itens para uma lista e\n",
    "exiba o item e a posição que ele está"
   ]
  },
  {
   "cell_type": "code",
   "execution_count": 74,
   "metadata": {},
   "outputs": [
    {
     "name": "stdout",
     "output_type": "stream",
     "text": [
      "o carro Gol está na posição 0\n",
      "o carro Corsa está na posição 1\n",
      "o carro Palio está na posição 2\n",
      "o carro Monza está na posição 3\n",
      "o carro Fusca está na posição 4\n"
     ]
    }
   ],
   "source": [
    "carros = 'Gol;Corsa;Palio;Monza;Fusca'\n",
    "listacarros = carros.split(';')\n",
    "for pos,listacarros in enumerate(listacarros):\n",
    "    print(f'o carro {listacarros} está na posição {pos}')"
   ]
  },
  {
   "cell_type": "markdown",
   "metadata": {},
   "source": [
    "9 Faça um programa que vai ler valores numéricos e guardá-los em uma lista, caso o\n",
    "usuário digite 0, o programa mostre:\n",
    "\n",
    "A – Quantos números foram digitados.\n",
    "\n",
    "B – Mostre a lista em ordem crescente.\n",
    "\n",
    "C – Mostre a lista em ordem decrescente.\n",
    "\n",
    "D – O maior valor\n",
    "\n",
    "E – O menor valor\n",
    "\n",
    "D – Se o valor 5 foi digitado na lista ou não."
   ]
  },
  {
   "cell_type": "code",
   "execution_count": null,
   "metadata": {},
   "outputs": [],
   "source": [
    "\n",
    "    \n"
   ]
  },
  {
   "cell_type": "markdown",
   "metadata": {},
   "source": [
    "10. Faça um programa que peça o nome de 6 pessoas e pergunte o sexo delas e\n",
    "armazene em 2 listas, uma de homem caso coloque o sexo ‘M’ e outra de mulher caso\n",
    "coloque o sexo ‘F’, no final exiba a lista de homens e mulheres"
   ]
  },
  {
   "cell_type": "code",
   "execution_count": null,
   "metadata": {},
   "outputs": [],
   "source": [
    "lh = []\n",
    "lm = []\n",
    "for _ in range (6):\n",
    "    nome = input('Digite o seu nome:')\n",
    "    sexo = input('Digite o seu sexo: (M para masculino e F para feminino)').upper()\n",
    "if sexo == \"M\":\n",
    "    lh.append(nome)\n",
    "elif sexo == \"F\":\n",
    "    lm.append(nome)"
   ]
  }
 ],
 "metadata": {
  "kernelspec": {
   "display_name": "Python 3",
   "language": "python",
   "name": "python3"
  },
  "language_info": {
   "codemirror_mode": {
    "name": "ipython",
    "version": 3
   },
   "file_extension": ".py",
   "mimetype": "text/x-python",
   "name": "python",
   "nbconvert_exporter": "python",
   "pygments_lexer": "ipython3",
   "version": "3.12.2"
  }
 },
 "nbformat": 4,
 "nbformat_minor": 2
}
