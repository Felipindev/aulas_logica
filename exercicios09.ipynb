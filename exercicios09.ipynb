{
 "cells": [
  {
   "cell_type": "markdown",
   "metadata": {},
   "source": [
    " Crie uma função sem parâmetros que exiba uma linha com 50 * , e uma mensagem de boas\n",
    "vindas, chame essa função por 4 vezes"
   ]
  },
  {
   "cell_type": "code",
   "execution_count": 1,
   "metadata": {},
   "outputs": [
    {
     "name": "stdout",
     "output_type": "stream",
     "text": [
      "**************************************************\n",
      "Boas vindas!\n",
      "**************************************************\n",
      "Boas vindas!\n",
      "**************************************************\n",
      "Boas vindas!\n",
      "**************************************************\n",
      "Boas vindas!\n"
     ]
    }
   ],
   "source": [
    "def linha():\n",
    "    print('*'*50)\n",
    "    print('Boas vindas!')\n",
    "\n",
    "for _ in range(4):\n",
    "    linha()"
   ]
  },
  {
   "cell_type": "markdown",
   "metadata": {},
   "source": [
    "Crie uma função que contenha uma lista com as cores primárias e exiba cada cor em uma\n",
    "linha"
   ]
  },
  {
   "cell_type": "code",
   "execution_count": 21,
   "metadata": {},
   "outputs": [
    {
     "name": "stdout",
     "output_type": "stream",
     "text": [
      "Azul\n",
      "Amarelo\n",
      "Vermelho\n"
     ]
    }
   ],
   "source": [
    "lista_cores = [ 'Azul', 'Amarelo','Vermelho']\n",
    "def cores():\n",
    "    print(lista_cores[0])\n",
    "    print(lista_cores[1])\n",
    "    print(lista_cores[2])\n",
    "  \n",
    "cores()"
   ]
  },
  {
   "cell_type": "markdown",
   "metadata": {},
   "source": [
    "Crie uma função que recebe um número como parâmetro e exiba a tabuada até o 10, chame\n",
    "essa função por 3 vezes enviando parâmetros diferentes"
   ]
  },
  {
   "cell_type": "code",
   "execution_count": 27,
   "metadata": {},
   "outputs": [
    {
     "name": "stdout",
     "output_type": "stream",
     "text": [
      "978 x 0 = 0\n",
      "978 x 1 = 978\n",
      "978 x 2 = 1956\n",
      "978 x 3 = 2934\n",
      "978 x 4 = 3912\n",
      "978 x 5 = 4890\n",
      "978 x 6 = 5868\n",
      "978 x 7 = 6846\n",
      "978 x 8 = 7824\n",
      "978 x 9 = 8802\n",
      "978 x 10 = 9780\n"
     ]
    }
   ],
   "source": [
    "\n",
    "def tabuada(numero):\n",
    "    for x in range(11):\n",
    "       print(f'{numero} x {x} = {numero * x}')\n",
    "\n",
    "tabuada(978)"
   ]
  },
  {
   "cell_type": "markdown",
   "metadata": {},
   "source": [
    "Crie uma função que receba 2 números e o operador matemático para realizar a operação\n",
    "(Ex. envio os parâmetros 2 e 5 e *, fazer a multiplicação), tratar as operações + - * / **"
   ]
  },
  {
   "cell_type": "code",
   "execution_count": 28,
   "metadata": {},
   "outputs": [
    {
     "name": "stdout",
     "output_type": "stream",
     "text": [
      "0.4\n",
      "7\n",
      "-3\n",
      "10\n",
      "32\n"
     ]
    }
   ],
   "source": [
    "def calculo(n1,n2,op):\n",
    "    if op == '+':\n",
    "        return n1+n2\n",
    "    elif op == '-':\n",
    "        return n1-n2\n",
    "    elif op == '*':\n",
    "        return n1*n2\n",
    "    elif op == '/':\n",
    "        return n1/n2\n",
    "    elif op == \"**\":\n",
    "        return n1**n2\n",
    "\n",
    "print(calculo(2,5,'/'))\n",
    "print(calculo(2,5,'+'))\n",
    "print(calculo(2,5,'-'))\n",
    "print(calculo(2,5,'*'))\n",
    "print(calculo(2,5,'**'))\n"
   ]
  },
  {
   "cell_type": "markdown",
   "metadata": {},
   "source": [
    "Crie uma função que gere uma senha aleatória, deve receber como parâmetro a quantidade\n",
    "de caracteres que terá a senha, crie uma lista com todos os caracteres disponíveis para a\n",
    "senha e com o random sorteie a qual de dígitos terá a senha"
   ]
  },
  {
   "cell_type": "code",
   "execution_count": 37,
   "metadata": {},
   "outputs": [
    {
     "name": "stdout",
     "output_type": "stream",
     "text": [
      "O algoritmo escolheu a senha: E*NA+8B:\n"
     ]
    }
   ],
   "source": [
    "\n",
    "def senha(q_de_caracteres):\n",
    "    lista = ['a','b','c','d','e','f','1','2','3','4','5','6','7','8','9','0','A','B','C','D','E','F','G','H','I','J','H','I','J','K','L','M','N','O','P','Q','R','S',',','.',':','+','-','*','!','?']\n",
    "    senha_gerada = ''\n",
    "    import random\n",
    "    for _ in range(q_de_caracteres):\n",
    "        senha_gerada += random.choice(lista)\n",
    "    return senha_gerada\n",
    "q_de_caracteres = 8\n",
    "senha(q_de_caracteres)\n",
    "senha_gerada = senha(q_de_caracteres)\n",
    "\n",
    "\n",
    "print(f'O algoritmo escolheu a senha: {senha_gerada}')\n",
    "\n"
   ]
  }
 ],
 "metadata": {
  "kernelspec": {
   "display_name": "Python 3",
   "language": "python",
   "name": "python3"
  },
  "language_info": {
   "codemirror_mode": {
    "name": "ipython",
    "version": 3
   },
   "file_extension": ".py",
   "mimetype": "text/x-python",
   "name": "python",
   "nbconvert_exporter": "python",
   "pygments_lexer": "ipython3",
   "version": "3.12.3"
  }
 },
 "nbformat": 4,
 "nbformat_minor": 2
}
