{
 "cells": [
  {
   "cell_type": "markdown",
   "metadata": {},
   "source": [
    "\n",
    "Aula 15/02/24 - Comandos de saída (print) / tipos de dados (string, float, bool, int) / operações Aritméticas + - * / % **"
   ]
  },
  {
   "cell_type": "code",
   "execution_count": 21,
   "metadata": {},
   "outputs": [
    {
     "name": "stdout",
     "output_type": "stream",
     "text": [
      "hello, world!\n",
      "meu primeiro codigo em python, usando aspas duplas\n",
      "meu primeiro codigo em python, usando aspas duplas\n",
      "244\n",
      "32.45\n",
      "-32.4\n",
      "True\n",
      "caguei na mesa\n",
      "20\n",
      "84\n",
      "4x\n",
      "a^2 + b^2 = c^2\n",
      "string 25 7.1 True\n",
      "0.7777777777777778\n",
      "1\n",
      "20736\n",
      "3²\n",
      "1.6\n",
      "5.6\n"
     ]
    }
   ],
   "source": [
    "#Eu escrevo uma mensagem na tela usando print :)\n",
    "print ('hello, world!')\n",
    "print(\"meu primeiro codigo em python, usando aspas duplas\")\n",
    "print(\"meu primeiro codigo em python, usando aspas duplas\") #Para duplicar uma linha, pressionei shift+alt+Seta baixo\n",
    "\n",
    "print(244) #exibo um numero inteiro, por isso, não preciso das aspas\n",
    "\n",
    "print(32.45) #número float\n",
    "print(-32.4)\n",
    "\n",
    "print(True) # True ou False fazendo parte dos Bool, por isso dá certo\n",
    "\n",
    "print('caguei na mesa') #funciona pois estou usando aspas, ditando uma string\n",
    "\n",
    "print(4 * 5) #da pra resolver questoes algebricas\n",
    "\n",
    "print('8'+'4') #se eu coloco o numero entre aspas deixa de ser um numero, se torna um caractere, resulta na junção dos dois\n",
    "print('4' + 'x')\n",
    "print('a^2 + b^2 = c^2')\n",
    "\n",
    "print('string', 25, 7.1, True) #posso exibir as informaçãoes ao mesmo tempo separando por vírgula\n",
    "\n",
    "print(7/9) # / é operador de divisão\n",
    "\n",
    "print(35 % 2) #porcentagem é o operador do resto da divisão (módulo)\n",
    "\n",
    "print( 12 ** 4) # ** é o operador de expoente \n",
    "\n",
    "print('3²')\n",
    "\n",
    "print( (3+5)/5) # o parenteses define a ordem de prioridade, se estiver sem, ele executa de acordo o PEMDAS\n",
    "print(5+3/5)"
   ]
  },
  {
   "cell_type": "markdown",
   "metadata": {},
   "source": [
    "Aula 22/02/24 - Comandos de entrada (imput) / Variáveis / Pseudocódigo"
   ]
  },
  {
   "cell_type": "code",
   "execution_count": 21,
   "metadata": {},
   "outputs": [
    {
     "name": "stdout",
     "output_type": "stream",
     "text": [
      "Desenvolvimento de sistemas\n",
      "curso\n",
      "curso Desenvolvimento de sistemas Desenvolvimento de sistemas\n",
      "olá Felipe , Você tem 15 anos , hoje está fazendo 36.5 °C\n",
      "Olá Felipe, você tem 15 anos, hoje está fazendo 36.5°C\n",
      "Seu nome é tronogoro, você tem 54 anos e pesa 56.7 kg\n",
      "<class 'str'> <class 'int'> <class 'float'>\n"
     ]
    }
   ],
   "source": [
    "#Declarando minha primeira variável \n",
    "#leitura: Variável \"curso\" recebe a string \"desenvolvimento de sistemas\"\n",
    "curso = \"Desenvolvimento de sistemas\"\n",
    "\n",
    "print(curso) #exibe a informação dentro da variável \"curso\"\n",
    "print(\"curso\") #exibe a string, pelo uso das áspas\n",
    "print(\"curso\", curso, curso) # exibe a string e a informção da variável, separados pela vírgula\n",
    "\n",
    "#Criando e atribuindo variaveis\n",
    "idade = 15\n",
    "temperatura = 36.5\n",
    "nome = \"Felipe\"\n",
    "\n",
    "print(\"olá\", nome,\",\", \"Você tem\", idade, \"anos\",\",\", \"hoje está fazendo\", temperatura, \"°C\")\n",
    "print(f'Olá {nome}, você tem {idade} anos, hoje está fazendo {temperatura}°C')\n",
    "\n",
    "#Declarando variáveis lógicas (True or False)\n",
    "chovendo = False\n",
    "dia = True \n",
    "\n",
    "#print( \"salario\", salario) #Ocorre erro, pois não existe a variável \"salario\"\n",
    "\n",
    "#declarando uma constante, ao qual, não posso alterar\n",
    "PI = 3.1415\n",
    "\n",
    "#passo 1: Receber o nome da pessoa\n",
    "nome = input (\"qual o seu nome?\")\n",
    "#passo 2: receber a idade da pessoa\n",
    "idade = int(input (\"Quantos anos tem?\")) #posso converter para inteiro usando int\n",
    "#passo 3: receber o peso da pessoa\n",
    "peso = float(input (\"Qual o seu peso?\")) #posso converter para float usando float \n",
    "#passo 4: exibir nome, idade e o peso\n",
    "print (f\"Seu nome é {nome}, você tem {idade} anos e pesa {peso} kg\")\n",
    "#exibindo os tipos das variáveis\n",
    "print (type(nome), type(idade), type(peso)) # tudo oq recebemos do input é string"
   ]
  },
  {
   "cell_type": "markdown",
   "metadata": {},
   "source": [
    "23/02/24 - Operações com variáveis "
   ]
  },
  {
   "cell_type": "code",
   "execution_count": null,
   "metadata": {},
   "outputs": [],
   "source": [
    "# Receber o primeiro número\n",
    "numero1 = float(input('digite o primeiro número:'))\n",
    "# Receber o segundo número \n",
    "numero2 = float(input('digite o segundo número:'))\n",
    "# Receber o terceiro número\n",
    "numero3 = float(input('digite o terceiro numero'))\n",
    "# Somar os três  \n",
    "soma = numero2 + numero1 + numero3\n",
    "# Exibir o resultado \n",
    "print(soma)"
   ]
  },
  {
   "cell_type": "code",
   "execution_count": 9,
   "metadata": {},
   "outputs": [
    {
     "name": "stdout",
     "output_type": "stream",
     "text": [
      "332095.968\n"
     ]
    }
   ],
   "source": [
    "\n",
    "print(float(input(\"digite seu numero\")) * float(input('digite seu segundo numero')))\n"
   ]
  },
  {
   "cell_type": "code",
   "execution_count": 16,
   "metadata": {},
   "outputs": [
    {
     "name": "stdout",
     "output_type": "stream",
     "text": [
      "2200.0\n"
     ]
    }
   ],
   "source": [
    "valor_celular = float(input(\"digite o valor em reais\"))\n",
    "valor_desconto = float(input('digite o valor do desconto'))\n",
    "valor_celular = valor_celular - valor_desconto\n",
    "print(valor_celular)"
   ]
  },
  {
   "cell_type": "code",
   "execution_count": 17,
   "metadata": {},
   "outputs": [
    {
     "name": "stdout",
     "output_type": "stream",
     "text": [
      "14\n",
      "196\n",
      "1568\n",
      "o valor final é 1568\n"
     ]
    }
   ],
   "source": [
    "#alterando o valor da variável\n",
    "numero1 = 6 + 8\n",
    "print(numero1)\n",
    "numero1 = numero1 ** 2 \n",
    "print(numero1)\n",
    "numero1 = numero1 * (4 + 4)\n",
    "print(numero1)\n",
    "print(f'o valor final é {numero1}')\n"
   ]
  },
  {
   "cell_type": "code",
   "execution_count": 20,
   "metadata": {},
   "outputs": [
    {
     "name": "stdout",
     "output_type": "stream",
     "text": [
      "12000\n",
      "voce deve cobrar 12000\n"
     ]
    }
   ],
   "source": [
    "horas = 8\n",
    "dias = 15\n",
    "resultado = (horas*dias) * 100\n",
    "print(resultado)\n",
    "print(f'voce deve cobrar {resultado}')\n",
    "\n",
    "\n"
   ]
  },
  {
   "cell_type": "code",
   "execution_count": 22,
   "metadata": {},
   "outputs": [
    {
     "name": "stdout",
     "output_type": "stream",
     "text": [
      "6000.0\n"
     ]
    }
   ],
   "source": [
    "\n",
    "print((float(input('quantas horas por dia?')) * float(input('quantos dias?'))) * float(input('quanto cobra por hora?')))\n"
   ]
  },
  {
   "cell_type": "markdown",
   "metadata": {},
   "source": [
    "29/02/24 - operadores relacionais e estrutura condicional"
   ]
  },
  {
   "cell_type": "code",
   "execution_count": 6,
   "metadata": {},
   "outputs": [
    {
     "name": "stdout",
     "output_type": "stream",
     "text": [
      "a>b? False\n",
      "a==b? False\n",
      "a<b? True\n",
      "a!=b? True\n",
      "a>=b? False\n",
      "a<=b? True\n"
     ]
    }
   ],
   "source": [
    "a = 2\n",
    "b = 3\n",
    "print(f'a>b? {a > b}')\n",
    "print(f'a==b? {a == b}')\n",
    "print(f'a<b? {a < b}')\n",
    "print(f'a!=b? {a != b}')\n",
    "print(f'a>=b? {a >= b}')\n",
    "print(f'a<=b? {a <= b}')\n",
    "\n"
   ]
  },
  {
   "cell_type": "code",
   "execution_count": 11,
   "metadata": {},
   "outputs": [
    {
     "name": "stdout",
     "output_type": "stream",
     "text": [
      "posso entrar\n",
      "fim\n",
      "Maior idade\n",
      "fim\n"
     ]
    }
   ],
   "source": [
    "\n",
    "idade = int(input('qual sua idade?'))#receber o valor da idade\n",
    "if idade >= 18:#verificar se é maior ou igual a 18 então\n",
    "    print('Maior idade')#se for sim, exibir \"MAIOR IDADE\"\n",
    "print('fim')"
   ]
  },
  {
   "cell_type": "code",
   "execution_count": 13,
   "metadata": {},
   "outputs": [
    {
     "name": "stdout",
     "output_type": "stream",
     "text": [
      "num pode não\n",
      "fim\n"
     ]
    }
   ],
   "source": [
    "tenho_ingresso = False\n",
    "if tenho_ingresso == True:\n",
    "    print('posso entrar')\n",
    "else: \n",
    "    print('num pode não') \n",
    "print('fim')"
   ]
  },
  {
   "cell_type": "code",
   "execution_count": null,
   "metadata": {},
   "outputs": [],
   "source": [
    "idade = int(input('qual sua idade?'))\n",
    "if idade <= 18:\n",
    "    print('maior de idade')\n",
    "else:\n",
    "    print(\"menor de idade\")\n",
    "print('fim')"
   ]
  },
  {
   "cell_type": "markdown",
   "metadata": {},
   "source": [
    "01/03/24 - Operadores logicos e Estrutura condicional / not, and e or (condição)"
   ]
  },
  {
   "cell_type": "code",
   "execution_count": 4,
   "metadata": {},
   "outputs": [
    {
     "name": "stdout",
     "output_type": "stream",
     "text": [
      "False\n",
      "False\n",
      "True\n"
     ]
    }
   ],
   "source": [
    "a = 2\n",
    "b = 3\n",
    "c = 5 \n",
    "#     False  e   False ==\n",
    "print( (a>2) and (b<2))    #False\n",
    "#     False ou   False ==\n",
    "print( (a>2) or (b<2) )    #False\n",
    "#     False ou   Verdadeiro\n",
    "print( (a>2) or (b<5) )    #Verdadeiro\n",
    "\n",
    "idade = 18\n",
    "#     False      ou  Verdadeiro\n",
    "print(idade > 18 or idade == 18)  #true\n",
    "#     idade >= 18 (mema coisa)\n",
    "\n"
   ]
  },
  {
   "cell_type": "code",
   "execution_count": 7,
   "metadata": {},
   "outputs": [
    {
     "name": "stdout",
     "output_type": "stream",
     "text": [
      "peso ideal\n"
     ]
    }
   ],
   "source": [
    "altura = float(input('digite sua altura  em metros:'))\n",
    "peso = float(input('digite seu peso em kg:'))\n",
    "imc = peso / (altura ** 2)\n",
    "print(f'seu IMC é {imc:.1f}')\n",
    "if imc < 18.5:\n",
    "    print('Abaixo do peso ideal')\n",
    "elif imc >= 18.6 and imc <=24.9:\n",
    "    print('peso ideal')\n",
    "elif imc >= 25 and imc <= 29.9:\n",
    "    print('sobrepeso')\n",
    "else:\n",
    "    print('obesidade')\n"
   ]
  },
  {
   "cell_type": "code",
   "execution_count": null,
   "metadata": {},
   "outputs": [],
   "source": [
    "lado1 = int(input(\"digite lado 1\"))\n",
    "lado2 = int(input(\"digite lado 2\"))\n",
    "lado3 = int(input(\"digite lado 3\"))\n",
    "if lado1 ==lado2 and lado2 == lado3 :\n",
    "    print('triangulo Equilátero')\n",
    "elif lado1 != lado2 and lado2 != lado3 and lado3 != lado1:\n",
    "    print('Triangulo Escaleno')\n",
    "else:\n",
    "    print('triangulo isósceles')"
   ]
  },
  {
   "cell_type": "code",
   "execution_count": 4,
   "metadata": {},
   "outputs": [
    {
     "name": "stdout",
     "output_type": "stream",
     "text": [
      "a letra 4 é um numero\n"
     ]
    }
   ],
   "source": [
    "letra = input('digite uma letra')\n",
    "if letra == 'a'or letra == 'e' or letra == 'i' or letra == 'o' or letra== 'u':\n",
    "    print(f'a letra {letra} é uma vogal')\n",
    "elif letra== '1' or letra == '2' or letra=='3' or letra=='4':\n",
    "    print(f'a letra {letra} é um numero')\n",
    "else:\n",
    "    print(f'a letra {letra} não é uma vogal')"
   ]
  },
  {
   "cell_type": "markdown",
   "metadata": {},
   "source": [
    "07/03/24 - estrutura condicional aninhada / match case"
   ]
  },
  {
   "cell_type": "code",
   "execution_count": 9,
   "metadata": {},
   "outputs": [
    {
     "name": "stdout",
     "output_type": "stream",
     "text": [
      "seu voto é facultativo!\n"
     ]
    }
   ],
   "source": [
    "idade = int(input('digite sua idade:'))\n",
    "if idade >= 18 and idade <= 70:\n",
    "    print('você é obrigado a votar!')\n",
    "else:\n",
    "    if idade <16: \n",
    "        print('Você não pode votar!')\n",
    "    else:\n",
    "        if idade >= 16 or idade > 70:\n",
    "            print('seu voto é facultativo!')"
   ]
  },
  {
   "cell_type": "code",
   "execution_count": 26,
   "metadata": {},
   "outputs": [
    {
     "name": "stdout",
     "output_type": "stream",
     "text": [
      "9 - 7 = 2\n"
     ]
    }
   ],
   "source": [
    "numero1 = int(input('digite o primeiro número:'))\n",
    "numero2 = int(input('digite o segundo número:'))\n",
    "operador = input('digite o operador (+,-,*,/,**):')\n",
    "match operador:\n",
    "    case '+':\n",
    "            print(f'{numero1} {operador} {numero2} = {numero1 + numero2}')\n",
    "    case '-':\n",
    "             print(f'{numero1} {operador} {numero2} = {numero1 - numero2}')\n",
    "    case '*':\n",
    "            print(f'{numero1} {operador} {numero2} = {numero1 * numero2}')\n",
    "    case '/':\n",
    "            print(f'{numero1} {operador} {numero2} = {numero1 / numero2}')\n",
    "    case '**': \n",
    "            print(f'{numero1} {operador} {numero2} = {numero1 ** numero2}')\n",
    "    case _:\n",
    "            print('operador inválido!')\n"
   ]
  },
  {
   "cell_type": "markdown",
   "metadata": {},
   "source": [
    "08/03/24 - Laço de repetição / While"
   ]
  },
  {
   "cell_type": "code",
   "execution_count": 2,
   "metadata": {},
   "outputs": [
    {
     "name": "stdout",
     "output_type": "stream",
     "text": [
      "Eu vou  prestar atenção na aula 1\n",
      "Eu vou  prestar atenção na aula 2\n",
      "Eu vou  prestar atenção na aula 3\n",
      "Eu vou  prestar atenção na aula 4\n",
      "Eu vou  prestar atenção na aula 5\n",
      "Eu vou  prestar atenção na aula 6\n",
      "Eu vou  prestar atenção na aula 7\n",
      "Eu vou  prestar atenção na aula 8\n",
      "Eu vou  prestar atenção na aula 9\n",
      "Eu vou  prestar atenção na aula 10\n"
     ]
    }
   ],
   "source": [
    "x = 1 \n",
    "while x <= 10:\n",
    "    print('Eu vou  prestar atenção na aula' , x)\n",
    "    x= x+1 \n",
    "\n",
    "\n"
   ]
  },
  {
   "cell_type": "code",
   "execution_count": 6,
   "metadata": {},
   "outputs": [
    {
     "name": "stdout",
     "output_type": "stream",
     "text": [
      "10\n",
      "9\n",
      "8\n",
      "7\n",
      "6\n",
      "5\n",
      "4\n",
      "3\n",
      "2\n",
      "1\n",
      "0\n",
      "Feliz ano novo!\n"
     ]
    }
   ],
   "source": [
    "import time #importando uma biblioteca de tempo\n",
    "x = 10\n",
    "while x >= 0:\n",
    "    print(x)\n",
    "    time.sleep(1) #dando uma pausa de um segundo na execução \n",
    "    x =x -1\n",
    "print('Feliz ano novo!')"
   ]
  },
  {
   "cell_type": "code",
   "execution_count": 3,
   "metadata": {},
   "outputs": [
    {
     "name": "stdout",
     "output_type": "stream",
     "text": [
      "Seja bem vindo, Felipe\n",
      "Seja bem vindo, Augusto\n",
      "Seja bem vindo, Julio\n",
      "Seja bem vindo, Ricardo\n",
      "Seja bem vindo, \n",
      "Seja bem vindo, \n",
      "Seja bem vindo, \n",
      "Seja bem vindo, sair\n",
      "Seja bem vindo, Sair\n"
     ]
    }
   ],
   "source": [
    "texto = ''\n",
    "while texto != \"Sair\":\n",
    "    texto = input('digite seu nome (\"Sair\" para terminar)')\n",
    "    print(f'Seja bem vindo, {texto}')"
   ]
  },
  {
   "cell_type": "code",
   "execution_count": 2,
   "metadata": {},
   "outputs": [
    {
     "name": "stdout",
     "output_type": "stream",
     "text": [
      "fim\n"
     ]
    }
   ],
   "source": [
    "senha_senai = \"12345\"\n",
    "nr_tentativa = 0\n",
    "while True:\n",
    "    senha = input('Qual é a senha 🤷‍♂️? \"desisto\" para sair 🔒')\n",
    "    if senha == senha_senai:\n",
    "            print('Você hackeou a Rede')\n",
    "            break \n",
    "    elif senha == 'desisto':\n",
    "          break\n",
    "    else:\n",
    "        nr_tentativa = nr_tentativa + 1\n",
    "        \n",
    "        if nr_tentativa == 3:\n",
    "              print('Você está preso!')  \n",
    "              break\n",
    "    \n",
    "print(\"fim\")"
   ]
  },
  {
   "cell_type": "code",
   "execution_count": 1,
   "metadata": {},
   "outputs": [
    {
     "name": "stdout",
     "output_type": "stream",
     "text": [
      "Tá tudo certo ?\n"
     ]
    }
   ],
   "source": [
    "print('Tá tudo certo ?')"
   ]
  },
  {
   "cell_type": "markdown",
   "metadata": {},
   "source": [
    "21/03/24 - Revisão de While  "
   ]
  },
  {
   "cell_type": "code",
   "execution_count": 2,
   "metadata": {},
   "outputs": [
    {
     "ename": "KeyboardInterrupt",
     "evalue": "Interrupted by user",
     "output_type": "error",
     "traceback": [
      "\u001b[1;31m---------------------------------------------------------------------------\u001b[0m",
      "\u001b[1;31mKeyboardInterrupt\u001b[0m                         Traceback (most recent call last)",
      "Cell \u001b[1;32mIn[2], line 3\u001b[0m\n\u001b[0;32m      1\u001b[0m resposta \u001b[38;5;241m=\u001b[39m \u001b[38;5;124m\"\u001b[39m\u001b[38;5;124mS\u001b[39m\u001b[38;5;124m\"\u001b[39m \n\u001b[0;32m      2\u001b[0m \u001b[38;5;28;01mwhile\u001b[39;00m resposta \u001b[38;5;241m==\u001b[39m \u001b[38;5;124m\"\u001b[39m\u001b[38;5;124mS\u001b[39m\u001b[38;5;124m\"\u001b[39m:\n\u001b[1;32m----> 3\u001b[0m     resp \u001b[38;5;241m=\u001b[39m \u001b[38;5;28;43minput\u001b[39;49m\u001b[43m(\u001b[49m\u001b[38;5;124;43m'\u001b[39;49m\u001b[38;5;124;43mDeseja continuar? [S/N]\u001b[39;49m\u001b[38;5;124;43m'\u001b[39;49m\u001b[43m)\u001b[49m\n\u001b[0;32m      5\u001b[0m \u001b[38;5;28mprint\u001b[39m(\u001b[38;5;124m'\u001b[39m\u001b[38;5;124mfim\u001b[39m\u001b[38;5;124m'\u001b[39m)\n",
      "File \u001b[1;32m~\\AppData\\Local\\Packages\\PythonSoftwareFoundation.Python.3.12_qbz5n2kfra8p0\\LocalCache\\local-packages\\Python312\\site-packages\\ipykernel\\kernelbase.py:1282\u001b[0m, in \u001b[0;36mKernel.raw_input\u001b[1;34m(self, prompt)\u001b[0m\n\u001b[0;32m   1280\u001b[0m     msg \u001b[38;5;241m=\u001b[39m \u001b[38;5;124m\"\u001b[39m\u001b[38;5;124mraw_input was called, but this frontend does not support input requests.\u001b[39m\u001b[38;5;124m\"\u001b[39m\n\u001b[0;32m   1281\u001b[0m     \u001b[38;5;28;01mraise\u001b[39;00m StdinNotImplementedError(msg)\n\u001b[1;32m-> 1282\u001b[0m \u001b[38;5;28;01mreturn\u001b[39;00m \u001b[38;5;28;43mself\u001b[39;49m\u001b[38;5;241;43m.\u001b[39;49m\u001b[43m_input_request\u001b[49m\u001b[43m(\u001b[49m\n\u001b[0;32m   1283\u001b[0m \u001b[43m    \u001b[49m\u001b[38;5;28;43mstr\u001b[39;49m\u001b[43m(\u001b[49m\u001b[43mprompt\u001b[49m\u001b[43m)\u001b[49m\u001b[43m,\u001b[49m\n\u001b[0;32m   1284\u001b[0m \u001b[43m    \u001b[49m\u001b[38;5;28;43mself\u001b[39;49m\u001b[38;5;241;43m.\u001b[39;49m\u001b[43m_parent_ident\u001b[49m\u001b[43m[\u001b[49m\u001b[38;5;124;43m\"\u001b[39;49m\u001b[38;5;124;43mshell\u001b[39;49m\u001b[38;5;124;43m\"\u001b[39;49m\u001b[43m]\u001b[49m\u001b[43m,\u001b[49m\n\u001b[0;32m   1285\u001b[0m \u001b[43m    \u001b[49m\u001b[38;5;28;43mself\u001b[39;49m\u001b[38;5;241;43m.\u001b[39;49m\u001b[43mget_parent\u001b[49m\u001b[43m(\u001b[49m\u001b[38;5;124;43m\"\u001b[39;49m\u001b[38;5;124;43mshell\u001b[39;49m\u001b[38;5;124;43m\"\u001b[39;49m\u001b[43m)\u001b[49m\u001b[43m,\u001b[49m\n\u001b[0;32m   1286\u001b[0m \u001b[43m    \u001b[49m\u001b[43mpassword\u001b[49m\u001b[38;5;241;43m=\u001b[39;49m\u001b[38;5;28;43;01mFalse\u001b[39;49;00m\u001b[43m,\u001b[49m\n\u001b[0;32m   1287\u001b[0m \u001b[43m\u001b[49m\u001b[43m)\u001b[49m\n",
      "File \u001b[1;32m~\\AppData\\Local\\Packages\\PythonSoftwareFoundation.Python.3.12_qbz5n2kfra8p0\\LocalCache\\local-packages\\Python312\\site-packages\\ipykernel\\kernelbase.py:1325\u001b[0m, in \u001b[0;36mKernel._input_request\u001b[1;34m(self, prompt, ident, parent, password)\u001b[0m\n\u001b[0;32m   1322\u001b[0m \u001b[38;5;28;01mexcept\u001b[39;00m \u001b[38;5;167;01mKeyboardInterrupt\u001b[39;00m:\n\u001b[0;32m   1323\u001b[0m     \u001b[38;5;66;03m# re-raise KeyboardInterrupt, to truncate traceback\u001b[39;00m\n\u001b[0;32m   1324\u001b[0m     msg \u001b[38;5;241m=\u001b[39m \u001b[38;5;124m\"\u001b[39m\u001b[38;5;124mInterrupted by user\u001b[39m\u001b[38;5;124m\"\u001b[39m\n\u001b[1;32m-> 1325\u001b[0m     \u001b[38;5;28;01mraise\u001b[39;00m \u001b[38;5;167;01mKeyboardInterrupt\u001b[39;00m(msg) \u001b[38;5;28;01mfrom\u001b[39;00m \u001b[38;5;28;01mNone\u001b[39;00m\n\u001b[0;32m   1326\u001b[0m \u001b[38;5;28;01mexcept\u001b[39;00m \u001b[38;5;167;01mException\u001b[39;00m:\n\u001b[0;32m   1327\u001b[0m     \u001b[38;5;28mself\u001b[39m\u001b[38;5;241m.\u001b[39mlog\u001b[38;5;241m.\u001b[39mwarning(\u001b[38;5;124m\"\u001b[39m\u001b[38;5;124mInvalid Message:\u001b[39m\u001b[38;5;124m\"\u001b[39m, exc_info\u001b[38;5;241m=\u001b[39m\u001b[38;5;28;01mTrue\u001b[39;00m)\n",
      "\u001b[1;31mKeyboardInterrupt\u001b[0m: Interrupted by user"
     ]
    }
   ],
   "source": [
    "resposta = \"S\" \n",
    "while resposta == \"S\":\n",
    "    resp = input('Deseja continuar? [S/N]')\n",
    "\n",
    "print('fim')"
   ]
  },
  {
   "cell_type": "code",
   "execution_count": 8,
   "metadata": {},
   "outputs": [
    {
     "name": "stdout",
     "output_type": "stream",
     "text": [
      "o valor total da compra foi de $10.00 \n",
      "Você comprou 4 produtos\n"
     ]
    }
   ],
   "source": [
    "soma = 0 \n",
    "q_produto = 0\n",
    "while True:\n",
    "    valor = float(input('Digite o valor do produto: {-1 para encerrar}'))\n",
    "    if valor == -1:\n",
    "        break \n",
    "    soma = valor + soma \n",
    "    q_produto = q_produto + 1 \n",
    "\n",
    "\n",
    "print(f'o valor total da compra foi de ${soma:.2f} ')\n",
    "print(f'Você comprou {q_produto} produtos')    "
   ]
  },
  {
   "cell_type": "code",
   "execution_count": 17,
   "metadata": {},
   "outputs": [
    {
     "name": "stdout",
     "output_type": "stream",
     "text": [
      "*******************************\n",
      "**    JOGO DA ADIVINHAÇÃO     **\n",
      "*******************************\n",
      "Você chutou 50. Tente um número maior\n",
      "Você chutou 60. Tente um número maior\n",
      "Você chutou 70. Tente um número maior\n",
      "Você chutou 80. Tente um número menor\n",
      "Você chutou 75. Tente um número maior\n",
      "Você chutou 76. Tente um número maior\n",
      "Você chutou 79. Parabens você acertou!!! 👏\n"
     ]
    }
   ],
   "source": [
    "print('*******************************')\n",
    "print('**    JOGO DA ADIVINHAÇÃO     **')\n",
    "print('*******************************')\n",
    "\n",
    "import random  \n",
    "nr_sorteado = random.randint(1, 100)\n",
    "acertou = False \n",
    "while acertou == False:\n",
    "    chute = int(input('digite um numero entre 1 e 100:'))\n",
    "    if chute == nr_sorteado:\n",
    "        print(f'Você chutou {chute}. Parabens você acertou!!! 👏')\n",
    "        acertou = True \n",
    "    elif chute > nr_sorteado:\n",
    "        print(f'Você chutou {chute}. Tente um número menor')\n",
    "    else:\n",
    "        print(f'Você chutou {chute}. Tente um número maior')\n",
    "        \n"
   ]
  },
  {
   "cell_type": "markdown",
   "metadata": {},
   "source": [
    "22/03/24 - For"
   ]
  },
  {
   "cell_type": "code",
   "execution_count": 2,
   "metadata": {},
   "outputs": [
    {
     "name": "stdout",
     "output_type": "stream",
     "text": [
      "0\n",
      "1\n",
      "2\n",
      "3\n",
      "4\n",
      "5\n",
      "6\n",
      "7\n",
      "8\n",
      "9\n",
      "10\n"
     ]
    }
   ],
   "source": [
    "for x in range (11):\n",
    "    print(x)\n"
   ]
  },
  {
   "cell_type": "code",
   "execution_count": 3,
   "metadata": {},
   "outputs": [
    {
     "name": "stdout",
     "output_type": "stream",
     "text": [
      "Entregando os notebooks\n",
      " Pegar notebook 1\n",
      " Pegar o mouse 1\n",
      " levo até o(a) 1\n",
      "Não pegar o notebok 2\n",
      " Pegar notebook 3\n",
      " Pegar o mouse 3\n",
      " levo até o(a) 3\n",
      "começar a aula\n"
     ]
    }
   ],
   "source": [
    "print('Entregando os notebooks')\n",
    "for nr in range (3):\n",
    "    nr=nr+1\n",
    "    nome = input(f'quem é o numero {nr}? ')\n",
    "    presente = input(f'o(a) {nome} veio pra escola? [s/N]')\n",
    "    if presente == 'S':\n",
    "        print(f' Pegar notebook {nr}')\n",
    "        print(f' Pegar o mouse {nr}')\n",
    "        print(f' levo até o(a) {nr}')\n",
    "    else:\n",
    "        print(f'Não pegar o notebok {nr}')\n",
    "\n",
    "print(\"começar a aula\")"
   ]
  },
  {
   "cell_type": "code",
   "execution_count": 6,
   "metadata": {},
   "outputs": [
    {
     "name": "stdout",
     "output_type": "stream",
     "text": [
      "5\n",
      "6\n",
      "7\n",
      "8\n",
      "9\n",
      "10\n"
     ]
    }
   ],
   "source": [
    "for x in range(5,11):\n",
    "    print(x)"
   ]
  },
  {
   "cell_type": "code",
   "execution_count": 4,
   "metadata": {},
   "outputs": [
    {
     "name": "stdout",
     "output_type": "stream",
     "text": [
      "5\n",
      "7\n",
      "9\n",
      "11\n",
      "13\n",
      "15\n",
      "17\n",
      "19\n",
      "21\n",
      "23\n",
      "25\n",
      "27\n",
      "29\n"
     ]
    }
   ],
   "source": [
    "for x in range(5,30,2 ):\n",
    "    print(x)"
   ]
  },
  {
   "cell_type": "code",
   "execution_count": 9,
   "metadata": {},
   "outputs": [
    {
     "name": "stdout",
     "output_type": "stream",
     "text": [
      "987654321 x 0 = 0\n",
      "987654321 x 1 = 987654321\n",
      "987654321 x 2 = 1975308642\n",
      "987654321 x 3 = 2962962963\n",
      "987654321 x 4 = 3950617284\n",
      "987654321 x 5 = 4938271605\n",
      "987654321 x 6 = 5925925926\n",
      "987654321 x 7 = 6913580247\n",
      "987654321 x 8 = 7901234568\n",
      "987654321 x 9 = 8888888889\n",
      "987654321 x 10 = 9876543210\n"
     ]
    }
   ],
   "source": [
    "n = int(input('Digite o numero:'))\n",
    "for x in range (11):\n",
    "    print(f'{n} x {x} = {n * x}')"
   ]
  },
  {
   "cell_type": "code",
   "execution_count": 10,
   "metadata": {},
   "outputs": [
    {
     "name": "stdout",
     "output_type": "stream",
     "text": [
      "S\n",
      "E\n",
      "S\n",
      "I\n",
      "/\n",
      "S\n",
      "E\n",
      "N\n",
      "A\n",
      "I\n"
     ]
    }
   ],
   "source": [
    "for letra in \"SESI/SENAI\":\n",
    "    print(letra)\n"
   ]
  },
  {
   "cell_type": "code",
   "execution_count": 13,
   "metadata": {},
   "outputs": [
    {
     "name": "stdout",
     "output_type": "stream",
     "text": [
      "0\n",
      "1\n",
      "2\n",
      "3\n",
      "4\n",
      "5\n",
      "6\n",
      "7\n",
      "8\n",
      "9\n"
     ]
    }
   ],
   "source": [
    "for x in range (100):\n",
    "    if x == 10:\n",
    "        break\n",
    "    print(x)"
   ]
  },
  {
   "cell_type": "markdown",
   "metadata": {},
   "source": [
    "invertendo os baguio"
   ]
  },
  {
   "cell_type": "code",
   "execution_count": 3,
   "metadata": {},
   "outputs": [
    {
     "name": "stdout",
     "output_type": "stream",
     "text": [
      "[5, 4, 3, 2, 1]\n",
      "sosorovert\n"
     ]
    }
   ],
   "source": [
    "\n",
    "# Exemplo com lista\n",
    "lista_original = [1, 2, 3, 4, 5]\n",
    "lista_invertida = list(reversed(lista_original))\n",
    "print(lista_invertida)  \n",
    "\n",
    "# Exemplo com string\n",
    "string_original = input('Digite oq quiser kkk:')\n",
    "string_invertida = ''.join(reversed(string_original))\n",
    "print(string_invertida)  "
   ]
  },
  {
   "cell_type": "markdown",
   "metadata": {},
   "source": [
    "28 / 03 / 24 - Variável composta - Vetores, listas"
   ]
  },
  {
   "cell_type": "code",
   "execution_count": 13,
   "metadata": {},
   "outputs": [
    {
     "name": "stdout",
     "output_type": "stream",
     "text": [
      "['Maçã', 'Banana', 'Abacaxi', 'Uva']\n",
      "Maçã\n"
     ]
    }
   ],
   "source": [
    "#Declaração de uma lista de strings\n",
    "frutas = ['Maçã', 'Banana', 'Abacaxi', 'Uva']\n",
    "print(frutas)\n",
    "print(frutas [0])\n",
    "\n",
    "#Declaração de uma lista vazia\n",
    "lista_vazia = []\n",
    "\n",
    "#Declaração de uma lista de numeros\n",
    "numero = [1,2,3,4,5]\n",
    "print(numero [0])\n",
    "\n",
    "#Declaração de uma lista mista\n",
    "lista_mista = [2, 'teste', True, 12.3]\n"
   ]
  },
  {
   "cell_type": "code",
   "execution_count": 19,
   "metadata": {},
   "outputs": [
    {
     "name": "stdout",
     "output_type": "stream",
     "text": [
      "melancia\n",
      "['Maçã', 'Banana', 'Abacaxi', 'melancia']\n"
     ]
    }
   ],
   "source": [
    "#Alterando o valor de um item da lista \n",
    "frutas = ['Maçã', 'Banana', 'Abacaxi', 'Uva']\n",
    "frutas [3] = 'melancia'\n",
    "print(frutas [3])\n",
    "print(frutas)"
   ]
  },
  {
   "cell_type": "code",
   "execution_count": 26,
   "metadata": {},
   "outputs": [
    {
     "name": "stdout",
     "output_type": "stream",
     "text": [
      "['Maçã', 'Banana', 'Abacaxi', 'Uva', 'jatobá']\n",
      "['Maçã', 'Banana', 'morango', 'Abacaxi', 'Uva', 'jatobá']\n",
      "['Maçã', 'Banana', 'morango', 'Abacaxi', 'jiló', 'Uva', 'jatobá']\n",
      "['morango', 'jiló', 'Uva', 'jatobá']\n"
     ]
    }
   ],
   "source": [
    "#incluindo item no final da lista (.append)\n",
    "frutas = ['Maçã', 'Banana', 'Abacaxi', 'Uva']\n",
    "frutas.append('jatobá')\n",
    "print(frutas)\n",
    "\n",
    "#incluindo um item numa posição específica (.insert)\n",
    "frutas.insert(2,'morango')\n",
    "print(frutas)\n",
    "frutas.insert(4, 'jiló')\n",
    "print(frutas)\n",
    "\n",
    "#tirando um item da lista (del frutas[indice] ou frutas.pop(indice) ou frutas.remove('nome'))\n",
    "frutas.pop(1)\n",
    "del frutas[2]\n",
    "frutas.remove('Maçã')\n",
    "print(frutas)"
   ]
  },
  {
   "cell_type": "code",
   "execution_count": 1,
   "metadata": {},
   "outputs": [
    {
     "name": "stdout",
     "output_type": "stream",
     "text": [
      "Melancia\n",
      "['Maçã', 'Banana', 'Morango', 'Abacaxi']\n",
      "['Banana', 'Morango', 'Abacaxi', 'Melancia', 'Laranja', 'Uva']\n",
      "['Uva', 'Laranja', 'Melancia', 'Abacaxi', 'Morango', 'Banana', 'Maçã']\n",
      "7\n",
      "Uva\n"
     ]
    }
   ],
   "source": [
    "#exibindo os itens da lista\n",
    "frutas = ['Maçã', 'Banana', 'Morango', 'Abacaxi','Melancia', 'Laranja', 'Uva']\n",
    "print(frutas[4]) #exibe posição específica\n",
    "print(frutas[0:4]) #exibe 4 itens começando da posição 0\n",
    "print(frutas[1:]) #exibe da posição 1 ao ultimo\n",
    "print(frutas[::-1]) #exibe do ultimo ao primeiro\n",
    "print(len(frutas)) #exibe o total de itens da lista\n",
    "print(frutas[-1]) #exibe o ultimo valor"
   ]
  },
  {
   "cell_type": "code",
   "execution_count": 4,
   "metadata": {},
   "outputs": [
    {
     "name": "stdout",
     "output_type": "stream",
     "text": [
      "['Abacaxi', 'Banana', 'Laranja', 'Maçã', 'Melancia', 'Morango', 'Uva']\n",
      "['Uva', 'Morango', 'Melancia', 'Maçã', 'Laranja', 'Banana', 'Abacaxi']\n"
     ]
    }
   ],
   "source": [
    "#ordenando a lista\n",
    "frutas = ['Maçã', 'Banana', 'Morango', 'Abacaxi','Melancia', 'Laranja', 'Uva']\n",
    "frutas.sort() #ordem crescente\n",
    "print(frutas)\n",
    "frutas.reverse() #ordem decrescente\n",
    "print(frutas)\n"
   ]
  },
  {
   "cell_type": "markdown",
   "metadata": {},
   "source": [
    "04/04/2024 - Iteração em listas"
   ]
  },
  {
   "cell_type": "code",
   "execution_count": 32,
   "metadata": {},
   "outputs": [
    {
     "name": "stdout",
     "output_type": "stream",
     "text": [
      "É uma vogal\n"
     ]
    }
   ],
   "source": [
    "# criando uma lista de vogais\n",
    "vogais = ['a', 'e', 'i', 'o','u']\n",
    "if 'o' in vogais:\n",
    "    print(\"É uma vogal\")\n",
    "else:\n",
    "    print('Não é uma vogal')"
   ]
  },
  {
   "cell_type": "code",
   "execution_count": 3,
   "metadata": {},
   "outputs": [
    {
     "name": "stdout",
     "output_type": "stream",
     "text": [
      "H não é uma letra\n"
     ]
    }
   ],
   "source": [
    "vogais = ['a', 'e', 'i', 'o','u']\n",
    "consoantes = ['b', 'c', 'd','f', 'g', 'h', 'j','k', 'l', 'm', 'n', 'p', 'q', 'r', 's', 't', 'v', 'w', 'x', 'y', 'z']\n",
    "numero = ['0', '1','2','3', '4' , '5' , '6' ,'7' , '8', '9']\n",
    "#recebendo um caractere do usuário\n",
    "resposta = input('Digite um caracter:')\n",
    "#use .lower() para colocar tudo em minusculo\n",
    "#use .upper() para colocar tudo em maisculo\n",
    "if resposta.lower() in vogais:\n",
    "    print(f'{resposta} É uma vogal')\n",
    "\n",
    "elif resposta.lower in consoantes:\n",
    "    print(f' {resposta} É uma consoante') \n",
    "\n",
    "elif resposta in numero:\n",
    "    print(f'{resposta} é um número')\n",
    "\n",
    "else:\n",
    "    print(f'{resposta} não é uma letra')\n"
   ]
  },
  {
   "cell_type": "code",
   "execution_count": 42,
   "metadata": {},
   "outputs": [
    {
     "name": "stdout",
     "output_type": "stream",
     "text": [
      "Pelé\n",
      "Maradona\n",
      "Messi\n",
      "Cristiano Ronaldo\n"
     ]
    }
   ],
   "source": [
    "listanomes= ['Pelé', 'Maradona','Messi','Cristiano Ronaldo']\n",
    "for nomes in listanomes:\n",
    "    print(nomes)"
   ]
  },
  {
   "cell_type": "code",
   "execution_count": 7,
   "metadata": {},
   "outputs": [
    {
     "name": "stdout",
     "output_type": "stream",
     "text": [
      "15\n",
      "15\n"
     ]
    }
   ],
   "source": [
    "listanmrs = [5,4,3,2,1]\n",
    "soma = 0\n",
    "for nr in listanmrs:\n",
    "    soma += nr\n",
    "print(soma)\n",
    "\n",
    "# a função sum(variavel) faz a mesma coisa\n",
    "soma = sum(listanmrs)\n",
    "print(soma)"
   ]
  },
  {
   "cell_type": "code",
   "execution_count": 9,
   "metadata": {},
   "outputs": [
    {
     "name": "stdout",
     "output_type": "stream",
     "text": [
      "A fruta pinha está na posição 0\n",
      "A fruta jabuticaba está na posição 1\n",
      "A fruta mirtilo está na posição 2\n",
      "A fruta jaca está na posição 3\n"
     ]
    }
   ],
   "source": [
    "#a função enumerate(variavel) diz a posição em que o caractere está\n",
    "listaFRutas = ['pinha', 'jabuticaba', 'mirtilo', 'jaca']\n",
    "for posição,fruta in enumerate(listaFRutas):\n",
    "    print(f'A fruta {fruta} está na posição {posição}')"
   ]
  },
  {
   "cell_type": "code",
   "execution_count": 11,
   "metadata": {},
   "outputs": [
    {
     "name": "stdout",
     "output_type": "stream",
     "text": [
      "Celular\n",
      " Notebook\n",
      " Tv\n",
      " Tablet\n",
      " Headset\n"
     ]
    }
   ],
   "source": [
    "# a função .split(separador) separa a string em multiplas strings usando um separador comum, que esta dentro da frase, nesse caso é a vírgula\n",
    "produtos = ' Celular, Notebook, Tv, Tablet, Headset'\n",
    "listaprodutos = produtos.split(',')\n",
    "for produto in listaprodutos:\n",
    "    print(produto)"
   ]
  },
  {
   "cell_type": "code",
   "execution_count": 12,
   "metadata": {},
   "outputs": [
    {
     "name": "stdout",
     "output_type": "stream",
     "text": [
      "S\n",
      "E\n",
      "N\n",
      "A\n",
      "I\n"
     ]
    }
   ],
   "source": [
    "#exibe cada palavra, tendo em vista que uma string é uma lista de caracteres \n",
    "palavra = 'SENAI'\n",
    "for letra in palavra:\n",
    "    print(letra)"
   ]
  },
  {
   "cell_type": "code",
   "execution_count": 3,
   "metadata": {},
   "outputs": [
    {
     "name": "stdout",
     "output_type": "stream",
     "text": [
      "1º gogó de frnago\n",
      "2º jiló\n",
      "3º beterraba\n",
      "4º aiai papai\n"
     ]
    }
   ],
   "source": [
    "#criando uma lista vazia\n",
    "listacomidas = []\n",
    "#laço de repetição sem um número de execução definida\n",
    "while True:\n",
    "    comida = input('Digite uma comida que vc mais gosta:')\n",
    "    #adicionando o valor da variável no final da lista\n",
    "    listacomidas.append(comida)\n",
    "    resp = input('Deseja continuar? [S/N]')\n",
    "    #verificando condição da resposta, se for N ou n, saímos do laço\n",
    "    if resp in 'Nn':\n",
    "        break \n",
    "#fora do while - após finalizar sua executação e encontrar o break\n",
    "#laço de repetição para exibir a posição dos itens da lista\n",
    "for posição,comida in enumerate(listacomidas):\n",
    "    print(f'{posição+1}º {comida}')"
   ]
  },
  {
   "cell_type": "code",
   "execution_count": 8,
   "metadata": {},
   "outputs": [
    {
     "name": "stdout",
     "output_type": "stream",
     "text": [
      "93\n",
      "1\n",
      "93\n",
      "1\n"
     ]
    }
   ],
   "source": [
    "#mostrar o maior e o menor numero da lista usando a função\n",
    "lista = [1,12,43,56,93,2,1,]\n",
    "print(max(lista))\n",
    "print(min(lista))\n",
    "\n",
    "#usando lógica\n",
    "lista = [1,12,43,56,93,2,1]\n",
    "Maior_nr = 0\n",
    "menor_nr = 1000000000\n",
    "for Nmatual in lista:\n",
    "    if Nmatual > Maior_nr:\n",
    "        Maior_nr = Nmatual\n",
    "    if Nmatual < menor_nr:\n",
    "        menor_nr = Nmatual\n",
    "print(Maior_nr)\n",
    "print(menor_nr)"
   ]
  },
  {
   "cell_type": "markdown",
   "metadata": {},
   "source": [
    "11/04/24 - Funções"
   ]
  },
  {
   "cell_type": "code",
   "execution_count": 3,
   "metadata": {},
   "outputs": [
    {
     "name": "stdout",
     "output_type": "stream",
     "text": [
      "--------------------\n",
      "    SESI / SENAI    \n",
      "--------------------\n"
     ]
    }
   ],
   "source": [
    "print('-' *20)\n",
    "print('    SESI / SENAI    ')\n",
    "print('-' *20)"
   ]
  },
  {
   "cell_type": "code",
   "execution_count": 9,
   "metadata": {},
   "outputs": [
    {
     "name": "stdout",
     "output_type": "stream",
     "text": [
      "$$$$$$$$$$$$$$$$$$$$$$$$$$$$$$$$$$$$$$$$\n",
      "&&&&&&&&&&&&&&&&&&&&\n",
      "%%%%%%%%%%%%%%%%%%%%%%%%%%%%%%%%%%%%%%%%\n",
      "SESI/SENAI\n",
      "$$$$$$$$$$$$$$$$$$$$$$$$$$$$$$$$$$$$$$$$\n",
      "&&&&&&&&&&&&&&&&&&&&\n"
     ]
    }
   ],
   "source": [
    "def linha():\n",
    "    print('$'*40)\n",
    "    print('&'*20)\n",
    "def linhaperc():\n",
    "    print('%' * 40)\n",
    "linha()\n",
    "linhaperc()\n",
    "print('SESI/SENAI')\n",
    "linha()"
   ]
  },
  {
   "cell_type": "code",
   "execution_count": 12,
   "metadata": {},
   "outputs": [
    {
     "name": "stdout",
     "output_type": "stream",
     "text": [
      "--------------------\n",
      "SESI/SENAI\n",
      "--------------------\n",
      "--------------------\n",
      "SESI/SENAI\n",
      "--------------------\n",
      "--------------------\n",
      "SESI/SENAI\n",
      "--------------------\n",
      "--------------------\n",
      "SESI/SENAI\n",
      "--------------------\n",
      "--------------------\n",
      "SESI/SENAI\n",
      "--------------------\n"
     ]
    }
   ],
   "source": [
    "def linha():\n",
    "    print('-'*20)\n",
    "\n",
    "\n",
    "def cabeçalho():\n",
    "    linha()\n",
    "    print('SESI/SENAI')\n",
    "    linha()\n",
    "\n",
    "cabeçalho()    \n",
    "cabeçalho()    \n",
    "cabeçalho()    \n",
    "cabeçalho()    \n",
    "cabeçalho()    "
   ]
  },
  {
   "cell_type": "code",
   "execution_count": 19,
   "metadata": {},
   "outputs": [
    {
     "name": "stdout",
     "output_type": "stream",
     "text": [
      "FELIPE, TENNHA UM BOM DIA!\n",
      "ARTHUR, TENNHA UM BOM DIA!\n",
      "VINICIUS, TENNHA UM BOM DIA!\n"
     ]
    }
   ],
   "source": [
    "\n",
    "def saudação():\n",
    "    nome = input('Qual o seu nome?')\n",
    "    print(F'{nome}, TENNHA UM BOM DIA!')\n",
    "for _ in range(3):\n",
    "    saudação()\n"
   ]
  },
  {
   "cell_type": "code",
   "execution_count": 21,
   "metadata": {},
   "outputs": [
    {
     "name": "stdout",
     "output_type": "stream",
     "text": [
      "--------------------\n",
      "SESI\n",
      "--------------------\n",
      "--------------------\n",
      "SENAI\n",
      "--------------------\n"
     ]
    }
   ],
   "source": [
    "\n",
    "def cabeçalho(texto):\n",
    "    linha()\n",
    "    print(texto)\n",
    "    linha()\n",
    "\n",
    "cabeçalho('SESI') #atribuo valor a variavel texto, pedindo para o cabecalho inseri-lo \n",
    "cabeçalho('SENAI')\n"
   ]
  },
  {
   "cell_type": "code",
   "execution_count": 22,
   "metadata": {},
   "outputs": [
    {
     "name": "stdout",
     "output_type": "stream",
     "text": [
      "O resultado de 10 + 5 é 15\n"
     ]
    }
   ],
   "source": [
    "def soma(n1,n2): #fazendo uma soma, atruibindo resultado para as variaveis, criando uma função\n",
    "    res = n1 + n2\n",
    "    print(f'O resultado de {n1} + {n2} é {res}')\n",
    "\n",
    "soma(10,5)\n"
   ]
  },
  {
   "cell_type": "code",
   "execution_count": 28,
   "metadata": {},
   "outputs": [
    {
     "name": "stdout",
     "output_type": "stream",
     "text": [
      "O numero 12 é par\n",
      " O numero 62222345 é impar\n"
     ]
    }
   ],
   "source": [
    "def ParImpar(numero):\n",
    "    if numero % 2== 0:\n",
    "        print(f'O numero {numero} é par')\n",
    "    else:\n",
    "        print(f' O numero {numero} é impar')\n",
    "    \n",
    "ParImpar(12)\n",
    "ParImpar(62222345)"
   ]
  },
  {
   "cell_type": "code",
   "execution_count": 30,
   "metadata": {},
   "outputs": [
    {
     "name": "stdout",
     "output_type": "stream",
     "text": [
      "9.0\n",
      "9.0\n"
     ]
    },
    {
     "data": {
      "text/plain": [
       "9.0"
      ]
     },
     "execution_count": 30,
     "metadata": {},
     "output_type": "execute_result"
    }
   ],
   "source": [
    "def media(n1,n2):\n",
    "    res = (n1+n2)/2\n",
    "    return(res)\n",
    "\n",
    "\n",
    "# A variavel resultado_media recebe o retorno da função media\n",
    "resultado_media = media(10,8)\n",
    "print(resultado_media)\n",
    "# ou\n",
    "print(media(10,8))\n",
    "# ou\n",
    "media(10,8)"
   ]
  },
  {
   "cell_type": "code",
   "execution_count": 41,
   "metadata": {},
   "outputs": [
    {
     "name": "stdout",
     "output_type": "stream",
     "text": [
      "2 / 12 / 1985\n",
      "14 / 10 / 2005\n",
      "5 / 11 / 1995\n"
     ]
    }
   ],
   "source": [
    "def FormatarData (dia,mes,ano):\n",
    "    data = (f'{dia} / {mes} / {ano}')\n",
    "    return(data)\n",
    "\n",
    "print(FormatarData(2,12,1985))\n",
    "print(FormatarData(14,10,2005))\n",
    "print(FormatarData(5,11,1995))"
   ]
  },
  {
   "cell_type": "markdown",
   "metadata": {},
   "source": [
    "12/04/24 - Escopo de variaveis (Local e Global)"
   ]
  },
  {
   "cell_type": "code",
   "execution_count": 2,
   "metadata": {},
   "outputs": [
    {
     "name": "stdout",
     "output_type": "stream",
     "text": [
      "Valor ANTES da função SENAI\n",
      "Valor dentro da função Sesi\n",
      "Valor DEPOIS da função SENAI\n"
     ]
    }
   ],
   "source": [
    "def NomeEscola():\n",
    "    escola = 'Sesi'\n",
    "    print(f'Valor dentro da função {escola}') #Variavel local. Morre depois que acaba a função, só está disponível dentro da função.\n",
    "\n",
    "escola = \"SENAI\"  #variavel global\n",
    "print(f'Valor ANTES da função {escola}')\n",
    "NomeEscola()\n",
    "print(f'Valor DEPOIS da função {escola}')    "
   ]
  },
  {
   "cell_type": "code",
   "execution_count": 4,
   "metadata": {},
   "outputs": [
    {
     "name": "stdout",
     "output_type": "stream",
     "text": [
      "Valor antes: SENAI\n",
      "Valor dentro da função: SESI\n",
      "valor depois: SESI\n"
     ]
    }
   ],
   "source": [
    "def NomeEscola():\n",
    "    #Caso eu queira atualizar o conteudo da minha vaiavel escola, preciso escrever que ela é a global\n",
    "    global escola\n",
    "    escola = 'SESI'  #alterando o valor da variavel global\n",
    "    print(f'Valor dentro da função: {escola}')\n",
    "\n",
    "escola = 'SENAI'  #variavel global \n",
    "print(f'Valor antes: {escola}')\n",
    "NomeEscola()\n",
    "print(f'valor depois: {escola}')"
   ]
  },
  {
   "cell_type": "code",
   "execution_count": 6,
   "metadata": {},
   "outputs": [
    {
     "name": "stdout",
     "output_type": "stream",
     "text": [
      "fora da função 10\n",
      "Dentro da função 1\n",
      "Fora da função 10\n"
     ]
    }
   ],
   "source": [
    "x =10 # X é uma variavel global\n",
    "# Podemos acessar x fora de uma função\n",
    "print('fora da função', x)\n",
    "\n",
    "def minha_função():\n",
    "    x = 0 #variável local \n",
    "    x = x+1\n",
    "    print('Dentro da função',x)\n",
    "\n",
    "minha_função()\n",
    "print('Fora da função',x)\n"
   ]
  },
  {
   "cell_type": "code",
   "execution_count": 7,
   "metadata": {},
   "outputs": [
    {
     "name": "stdout",
     "output_type": "stream",
     "text": [
      "fora da função 10\n",
      "Dentro da função 11\n",
      "Fora da função 11\n"
     ]
    }
   ],
   "source": [
    "x =10 # X é uma variavel global\n",
    "# Podemos acessar x fora de uma função\n",
    "print('fora da função', x)\n",
    "\n",
    "def minha_função():\n",
    "    '''\n",
    "    aqui posso escrever a descrição do que faz a minha função\n",
    "    \n",
    "    '''\n",
    "    global x  # Dizendo que usaremos a variavel x global \n",
    "    x = x+1\n",
    "    print('Dentro da função',x)\n",
    "\n",
    "minha_função()\n",
    "print('Fora da função',x)\n"
   ]
  }
 ],
 "metadata": {
  "kernelspec": {
   "display_name": "Python 3",
   "language": "python",
   "name": "python3"
  },
  "language_info": {
   "codemirror_mode": {
    "name": "ipython",
    "version": 3
   },
   "file_extension": ".py",
   "mimetype": "text/x-python",
   "name": "python",
   "nbconvert_exporter": "python",
   "pygments_lexer": "ipython3",
   "version": "3.12.2"
  }
 },
 "nbformat": 4,
 "nbformat_minor": 2
}
