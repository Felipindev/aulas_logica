{
 "cells": [
  {
   "cell_type": "code",
   "execution_count": null,
   "metadata": {},
   "outputs": [],
   "source": [
    "print('SEJA BEM VINDO AO SESI 😎')"
   ]
  },
  {
   "cell_type": "markdown",
   "metadata": {},
   "source": [
    "Faça um Programa que peça um número e então mostre a mensagem “O número\n",
    "informado foi [número]”."
   ]
  },
  {
   "cell_type": "code",
   "execution_count": null,
   "metadata": {},
   "outputs": [],
   "source": [
    "numero = input('Digite um numero:')\n",
    "print(f' O numero informado foi {numero}')"
   ]
  },
  {
   "cell_type": "markdown",
   "metadata": {},
   "source": [
    "Faça um programa que receba 2 números inteiros e exiba a divisão entre eles"
   ]
  },
  {
   "cell_type": "code",
   "execution_count": 1,
   "metadata": {},
   "outputs": [
    {
     "name": "stdout",
     "output_type": "stream",
     "text": [
      "o resultado de 12 / 4 é igual a 3.0\n"
     ]
    }
   ],
   "source": [
    "n1 = int(input('digite um numero que quer dividir:'))\n",
    "n2 = int(input('Digite o numero divisor:'))\n",
    "resultado = n1/n2 \n",
    "print(f'o resultado de {n1} / {n2} é igual a {resultado}')"
   ]
  },
  {
   "cell_type": "markdown",
   "metadata": {},
   "source": [
    "Faça um Programa que pergunte quanto você ganha por hora e o número de horas\n",
    "trabalhadas no mês. Calcule e mostre o total do seu salário no referido mês."
   ]
  },
  {
   "cell_type": "code",
   "execution_count": 7,
   "metadata": {},
   "outputs": [
    {
     "name": "stdout",
     "output_type": "stream",
     "text": [
      "1400.0\n"
     ]
    }
   ],
   "source": [
    "horas_trabalhadas = int(input('digite a quantidade de horas trabalhadas'))\n",
    "ganha_por_hora = float(input('Quanto você ganha por hora trabalhada?'))\n",
    "salario = horas_trabalhadas * ganha_por_hora\n",
    "print(salario)"
   ]
  },
  {
   "cell_type": "markdown",
   "metadata": {},
   "source": [
    "Faça um Programa que verifique se uma letra digitada é \"F\" ou \"M\". Conforme a letra\n",
    "escrever: F - Feminino, M - Masculino, Sexo Inválido."
   ]
  },
  {
   "cell_type": "code",
   "execution_count": 8,
   "metadata": {},
   "outputs": [
    {
     "name": "stdout",
     "output_type": "stream",
     "text": [
      "seu sexo é feminino\n"
     ]
    }
   ],
   "source": [
    "letra = input('Digite seu sexo: (F / M )')\n",
    "if letra == \"F\":\n",
    "    print('seu sexo é feminino')\n",
    "elif letra == 'M':\n",
    "    print('Seu sexo é masculino')\n",
    "else:\n",
    "    print('sexo inválido')\n"
   ]
  },
  {
   "cell_type": "markdown",
   "metadata": {},
   "source": [
    "Tendo como dado de entrada a altura (h) de uma pessoa e o sexo, construa um algoritmo\n",
    "que calcule seu peso ideal, utilizando as seguintes fórmulas:\n",
    "Para homens: (72.7 * altura) – 58 Para mulheres: (62.1 * altura) - 44.7"
   ]
  },
  {
   "cell_type": "code",
   "execution_count": 11,
   "metadata": {},
   "outputs": [
    {
     "name": "stdout",
     "output_type": "stream",
     "text": [
      "Seu peso ideal é 77.64\n"
     ]
    }
   ],
   "source": [
    "sexo = input('digite teu sexo (F/M)')\n",
    "altura = float(input('digite o quanto mede (metros)'))\n",
    "if sexo == 'F' or 'f':\n",
    "    pesoideal = (62.1 * altura) - 44.7\n",
    "    print(f'Seu peso ideal é {pesoideal:.2f}')\n",
    "elif sexo == 'M' or 'm':\n",
    "    pesoideal = (72.7 * altura) - 58\n",
    "    print(f'seu peso ideal é {pesoideal:.2f}')"
   ]
  },
  {
   "cell_type": "markdown",
   "metadata": {},
   "source": [
    "7. Faça um Programa que pergunte quanto você ganha por hora e o número de horas\n",
    "trabalhadas no mês.\n",
    "Calcule e mostre o total do seu salário no referido mês, sabendo-se que são descontados\n",
    "11% para o Imposto de Renda, 8% para o INSS e 5% para o sindicato, faça um programa\n",
    "que nos dê: salário bruto. quanto pagou ao INSS. quanto pagou ao sindicato. o salário\n",
    "líquido. calcule os descontos e o salário líquido, conforme a tabela abaixo:\n",
    "+ Salário Bruto : R$\n",
    "- IR (11%) : R$\n",
    "- INSS (8%) : R$\n",
    "- Sindicato ( 5%) : R$\n",
    "= Salário Liquido : R$"
   ]
  },
  {
   "cell_type": "code",
   "execution_count": 1,
   "metadata": {},
   "outputs": [
    {
     "name": "stdout",
     "output_type": "stream",
     "text": [
      " Salário Bruto: R$4600.0\n",
      "IR: R$ 506.0\n",
      "INSS: R$ 368.0\n",
      "SINDICATO: R$ 230.0\n",
      "SALARIO LIQUIDO: R$ 3496.0\n"
     ]
    }
   ],
   "source": [
    "horas_trabalhadas = int(input('digite a quantidade de horas trabalhadas'))\n",
    "ganha_por_hora = float(input('Quanto você ganha por hora trabalhada?'))\n",
    "\n",
    "salario_bruto = horas_trabalhadas * ganha_por_hora\n",
    "print(f' Salário Bruto: R${salario_bruto}')\n",
    "ir = salario_bruto * (11/100)\n",
    "print(f'IR: R$ {ir}')\n",
    "inss = salario_bruto * (8/100)\n",
    "print(f'INSS: R$ {inss}')\n",
    "sindicato = salario_bruto * (5/100)\n",
    "print(f'SINDICATO: R$ {sindicato}')\n",
    "salario_liquido = print(f'SALARIO LIQUIDO: R$ {salario_bruto - ir - inss - sindicato}')\n",
    "\n",
    "\n",
    "\n"
   ]
  },
  {
   "cell_type": "markdown",
   "metadata": {},
   "source": [
    "8. Faça uma função que peça um valor e mostre na tela se o valor é positivo ou negativo."
   ]
  },
  {
   "cell_type": "code",
   "execution_count": 24,
   "metadata": {},
   "outputs": [
    {
     "name": "stdout",
     "output_type": "stream",
     "text": [
      "O valor é positivo\n"
     ]
    }
   ],
   "source": [
    "def valor():\n",
    "    valor = float(input('Digite o valor:'))\n",
    "    if valor < 0:\n",
    "        print('o valor é negativo')\n",
    "    elif valor >= 0:\n",
    "        print('O valor é positivo')\n",
    "\n",
    "valor()"
   ]
  },
  {
   "cell_type": "markdown",
   "metadata": {},
   "source": [
    "9. Faça uma função que imprima na tela apenas os números ímpares entre 1 e 50."
   ]
  },
  {
   "cell_type": "code",
   "execution_count": 26,
   "metadata": {},
   "outputs": [
    {
     "name": "stdout",
     "output_type": "stream",
     "text": [
      " 1 é impar\n",
      " 3 é impar\n",
      " 5 é impar\n",
      " 7 é impar\n",
      " 9 é impar\n",
      " 11 é impar\n",
      " 13 é impar\n",
      " 15 é impar\n",
      " 17 é impar\n",
      " 19 é impar\n",
      " 21 é impar\n",
      " 23 é impar\n",
      " 25 é impar\n",
      " 27 é impar\n",
      " 29 é impar\n",
      " 31 é impar\n",
      " 33 é impar\n",
      " 35 é impar\n",
      " 37 é impar\n",
      " 39 é impar\n",
      " 41 é impar\n",
      " 43 é impar\n",
      " 45 é impar\n",
      " 47 é impar\n",
      " 49 é impar\n"
     ]
    }
   ],
   "source": [
    "def impares():\n",
    "    for x in range(51):\n",
    "        if x % 2== 1:\n",
    "            print(f' {x} é impar')\n",
    "\n",
    "impares()"
   ]
  },
  {
   "cell_type": "markdown",
   "metadata": {},
   "source": [
    "10. Faça uma função que receba dois números inteiros e gere os números inteiros que estão\n",
    "no intervalo compreendido por eles."
   ]
  },
  {
   "cell_type": "code",
   "execution_count": 35,
   "metadata": {},
   "outputs": [
    {
     "name": "stdout",
     "output_type": "stream",
     "text": [
      "1\n",
      "2\n",
      "3\n",
      "4\n",
      "5\n",
      "6\n",
      "7\n",
      "8\n",
      "9\n",
      "10\n",
      "11\n",
      "12\n",
      "13\n",
      "14\n",
      "15\n",
      "16\n",
      "17\n",
      "18\n",
      "19\n",
      "20\n",
      "21\n",
      "22\n"
     ]
    }
   ],
   "source": [
    "numeros = []\n",
    "def intervalos():\n",
    "    global numeros\n",
    "    for x in range (2):\n",
    "       x = int(input(\" digite um valor\"))\n",
    "       numeros.append(x)\n",
    "    for _ in range (numeros[0], numeros[1]):\n",
    "        print(_)\n",
    "\n",
    "intervalos()\n",
    "\n",
    "    \n",
    "\n"
   ]
  },
  {
   "cell_type": "markdown",
   "metadata": {},
   "source": [
    "11. Faça uma função que peça um número positivo e em seguida mostre este número invertido.\n",
    "Exemplo: 12376489 => 98467321"
   ]
  },
  {
   "cell_type": "code",
   "execution_count": 3,
   "metadata": {},
   "outputs": [
    {
     "name": "stdout",
     "output_type": "stream",
     "text": [
      "2365431\n"
     ]
    }
   ],
   "source": [
    "\n",
    "def inversao():\n",
    "    numero = input('Digite um valor positivo que quer inverter:')\n",
    "    print(numero[::-1])\n",
    "\n",
    "inversao()\n"
   ]
  },
  {
   "cell_type": "markdown",
   "metadata": {},
   "source": [
    "12. Faça um Programa que leia um vetor A com 5 números inteiros, calcule e mostre a soma\n",
    "dos quadrados dos elementos do vetor."
   ]
  },
  {
   "cell_type": "code",
   "execution_count": 67,
   "metadata": {},
   "outputs": [
    {
     "name": "stdout",
     "output_type": "stream",
     "text": [
      " a soma dos quadrados dos vetores é: 104\n"
     ]
    }
   ],
   "source": [
    "lista = [1,4,3,5,7,2]\n",
    "somadosquadrados = 0\n",
    "for numero in lista:\n",
    "    quadrado = numero * numero\n",
    "    somadosquadrados += quadrado\n",
    "print(f' a soma dos quadrados dos vetores é: {somadosquadrados}')"
   ]
  },
  {
   "cell_type": "markdown",
   "metadata": {},
   "source": [
    "13. Faça um Programa que leia 8 números inteiros e armazene-os num vetor. Armazene os\n",
    "números pares no vetor PAR e os números IMPARES no vetor impar. Imprima os três\n",
    "vetores."
   ]
  },
  {
   "cell_type": "code",
   "execution_count": 68,
   "metadata": {},
   "outputs": [
    {
     "name": "stdout",
     "output_type": "stream",
     "text": [
      "[1, 2, 3, 4, 5, 6, 7, 8]\n",
      "lista de pares: [2, 4, 6, 8]\n",
      "lista de impares: [1, 3, 5, 7]\n"
     ]
    }
   ],
   "source": [
    "lista = []\n",
    "listapar = []\n",
    "listaimpar = []\n",
    "for x in range(8):\n",
    "    numero = int(input('digite um numero:'))\n",
    "    lista.append(numero)\n",
    "    if numero % 2 == 0:\n",
    "        listapar.append(numero)\n",
    "    elif numero % 2 == 1:\n",
    "        listaimpar.append(numero)\n",
    "print(lista)\n",
    "print(f'lista de pares: {listapar}')\n",
    "print(f'lista de impares: {listaimpar}')\n"
   ]
  },
  {
   "cell_type": "markdown",
   "metadata": {},
   "source": [
    "14. Numa eleição existem três candidatos. Faça um programa que peça o número total de\n",
    "eleitores. Peça para cada eleitor votar e ao final mostrar o número de votos de cada\n",
    "candidato."
   ]
  },
  {
   "cell_type": "code",
   "execution_count": 69,
   "metadata": {},
   "outputs": [
    {
     "name": "stdout",
     "output_type": "stream",
     "text": [
      " o candidato 3 recebeu 1 votos\n",
      " o candidato 2 recebeu 0 votos\n",
      " o candidato 1 recebeu 2 votos\n"
     ]
    }
   ],
   "source": [
    "candidato1 = 0\n",
    "candidato2 = 0 \n",
    "candidato3 = 0 \n",
    "\n",
    "total_eleitor = int(input('qual o valor total de eleitores?'))\n",
    "for x in range(total_eleitor):\n",
    "    voto = int(input('vote no candidato: 1 para candidato1 / 2 para candidato 2 e 3 para candidato 3'))\n",
    "    if voto == 1:\n",
    "        candidato1 +=1\n",
    "    elif voto == 2:\n",
    "        candidato2 +=1\n",
    "    elif voto == 3:\n",
    "        candidato3 += 1\n",
    "\n",
    "print(f' o candidato 3 recebeu {candidato3} votos')\n",
    "print(f' o candidato 2 recebeu {candidato2} votos')\n",
    "print(f' o candidato 1 recebeu {candidato1} votos')\n",
    "\n"
   ]
  },
  {
   "cell_type": "markdown",
   "metadata": {},
   "source": [
    "15. Faça um Programa que em uma função receba 4 notas bimestrais e mostre a média."
   ]
  },
  {
   "cell_type": "code",
   "execution_count": 72,
   "metadata": {},
   "outputs": [
    {
     "name": "stdout",
     "output_type": "stream",
     "text": [
      "a nota média do aluno é 8.0\n"
     ]
    }
   ],
   "source": [
    "def media(nota1,nota2,nota3,nota4):\n",
    "    media = (nota1 + nota2 + nota3 + nota4) / 4\n",
    "    print(f'a nota média do aluno é {media}')\n",
    "media(8,9,9,6)\n"
   ]
  },
  {
   "cell_type": "markdown",
   "metadata": {},
   "source": [
    "16. Faça um Programa que em uma função receba uma medida em metros e converta retorne\n",
    "o valor convertido para centímetros."
   ]
  },
  {
   "cell_type": "code",
   "execution_count": 76,
   "metadata": {},
   "outputs": [
    {
     "name": "stdout",
     "output_type": "stream",
     "text": [
      "a conversão de metros para centimetros de 12 metros é igual a 1200 centímetros\n"
     ]
    }
   ],
   "source": [
    "def conversao():\n",
    "    metros = int(input('digite a medida em metros a ser convertida:'))\n",
    "    conversao = (metros * 100)\n",
    "    print(f'a conversão de metros para centimetros de {metros} metros é igual a {conversao} centímetros')\n",
    "conversao()"
   ]
  },
  {
   "cell_type": "markdown",
   "metadata": {},
   "source": [
    "17. Faça um programa que receba a temperatura média de cada mês do ano e armazene-as\n",
    "em uma lista. Após isto, calcule a média anual das temperaturas e mostre todas as\n",
    "temperaturas acima da média anual, e em que mês elas ocorreram (mostrar o mês por\n",
    "extenso: 1 – Janeiro, 2 – Fevereiro, . . . )."
   ]
  },
  {
   "cell_type": "code",
   "execution_count": 31,
   "metadata": {},
   "outputs": [
    {
     "name": "stdout",
     "output_type": "stream",
     "text": [
      "[12, 21, 23, 32, 34, 43, 45, 54, 56, 65, 67, 76]\n",
      "\n",
      "a temperatura média anual é de 44.0 C°\n",
      "\n",
      "meses acima da média anual:\n",
      "7-Julho\n",
      "8-Agosto\n",
      "9-Setembro\n",
      "10-Outubro\n",
      "11-Novembro\n",
      "12-Dezembro\n"
     ]
    }
   ],
   "source": [
    "lista = []\n",
    "\n",
    "for x in range(12):\n",
    "    temp = int(input('Digite a temperatura média do mês:'))\n",
    "    lista.append(temp)\n",
    "\n",
    "  \n",
    "\n",
    "soma = sum(lista)\n",
    "mediaanual = soma / 12\n",
    "print(lista) \n",
    "print('')\n",
    "print(f'a temperatura média anual é de {mediaanual} C°')\n",
    "print('')\n",
    "print('meses acima da média anual:')\n",
    "meses = [\"Janeiro\", \"Fevereiro\", \"Março\", \"Abril\", \"Maio\", \"Junho\", \"Julho\", \"Agosto\", \"Setembro\", \"Outubro\", \"Novembro\", \"Dezembro\"]\n",
    "for mes,valor in enumerate(lista):\n",
    "    if valor > mediaanual:\n",
    "        print(f'{mes+1}-{meses[mes]}')\n",
    "        \n",
    "        \n",
    "\n",
    "\n",
    "\n",
    "\n",
    "\n"
   ]
  },
  {
   "cell_type": "markdown",
   "metadata": {},
   "source": [
    "18. Faça um programa que receba o valor de uma dívida e mostre uma tabela com os seguintes\n",
    "dados: valor da dívida, valor dos juros, quantidade de parcelas e valor da parcela. Os juros\n",
    "e a quantidade de parcelas seguem a tabela abaixo:"
   ]
  },
  {
   "cell_type": "code",
   "execution_count": 13,
   "metadata": {},
   "outputs": [
    {
     "name": "stdout",
     "output_type": "stream",
     "text": [
      "  PARCELAS  !    JUROS     !   VALOR DA PARCELA      \n",
      "  1              R$0.00             R$12654.00 \n",
      "  3              R$1265.40           R$4218.00     \n",
      "  6              R$1898.10           R$2109.00     \n",
      "  9              R$2530.80           R$1406.00     \n",
      "  12             R$3163.50           R$1054.50    \n",
      "                                                           \n",
      "Valor da Dívida: R$12654.0\n"
     ]
    }
   ],
   "source": [
    "divida = float(input('digite o valor da sua dívida:'))\n",
    "juros1 = divida * 0\n",
    "juros2 = divida * 0.1\n",
    "juros3 = divida * 0.15\n",
    "juros4= divida * 0.20\n",
    "juros5 = divida * 0.25\n",
    "\n",
    "print('  PARCELAS  !    JUROS     !   VALOR DA PARCELA      ')\n",
    "print(f'  1              R${juros1:.2f}             R${divida/1:.2f} ')\n",
    "print(f'  3              R${juros2:.2f}           R${divida/3:.2f}     ')\n",
    "print(f'  6              R${juros3:.2f}           R${divida/6:.2f}     ')\n",
    "print(f'  9              R${juros4:.2f}           R${divida/9:.2f}     ')\n",
    "print(f'  12             R${juros5:.2f}           R${divida/12:.2f}    ')\n",
    "print('                                                           ')\n",
    "print(f'Valor da Dívida: R${divida}')\n"
   ]
  }
 ],
 "metadata": {
  "kernelspec": {
   "display_name": "Python 3",
   "language": "python",
   "name": "python3"
  },
  "language_info": {
   "codemirror_mode": {
    "name": "ipython",
    "version": 3
   },
   "file_extension": ".py",
   "mimetype": "text/x-python",
   "name": "python",
   "nbconvert_exporter": "python",
   "pygments_lexer": "ipython3",
   "version": "3.12.2"
  }
 },
 "nbformat": 4,
 "nbformat_minor": 2
}
