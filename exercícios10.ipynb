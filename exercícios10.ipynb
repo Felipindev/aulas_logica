{
 "cells": [
  {
   "cell_type": "markdown",
   "metadata": {},
   "source": [
    " Escreva uma função que utilize uma variável global para contar o número de vezes que foi\n",
    "chamada. A função deve retornar o número atual de chamadas."
   ]
  },
  {
   "cell_type": "code",
   "execution_count": 7,
   "metadata": {},
   "outputs": [
    {
     "data": {
      "text/plain": [
       "3"
      ]
     },
     "execution_count": 7,
     "metadata": {},
     "output_type": "execute_result"
    }
   ],
   "source": [
    "qdevezes = 0\n",
    "\n",
    "def chamadas():\n",
    "    global qdevezes\n",
    "    qdevezes +=1\n",
    "    return qdevezes\n",
    "\n",
    "chamadas()\n",
    "chamadas()\n",
    "chamadas()"
   ]
  },
  {
   "cell_type": "markdown",
   "metadata": {},
   "source": [
    "Crie um algoritmo que receba em variável global o valor atual do dólar e do euro, crie uma\n",
    "função que receba o valor a ser convertido e imprima a conversão em dólar e em euro"
   ]
  },
  {
   "cell_type": "code",
   "execution_count": 3,
   "metadata": {},
   "outputs": [
    {
     "name": "stdout",
     "output_type": "stream",
     "text": [
      "A conversão em euro é £22.53, a conversão em dólar é $23.98\n"
     ]
    }
   ],
   "source": [
    "euro = 5.46\n",
    "dolar = 5.13\n",
    " \n",
    "\n",
    "def conversao(valor_reais:float):\n",
    "    valor_euro = valor_reais / euro\n",
    "    valor_dolar = valor_reais / dolar\n",
    "    print(f'A conversão em euro é £{valor_euro:.2f}, a conversão em dólar é ${ valor_dolar:.2f}')\n",
    "\n",
    "conversao(123)\n"
   ]
  },
  {
   "cell_type": "markdown",
   "metadata": {},
   "source": [
    "Escreva uma função que recebe um nome e o adicione a uma lista de nomes global. Em seguida, escreva outra função que remova um elemento dessa lista global recebendo o nome."
   ]
  },
  {
   "cell_type": "code",
   "execution_count": 38,
   "metadata": {},
   "outputs": [
    {
     "name": "stdout",
     "output_type": "stream",
     "text": [
      "['Felipe', 'Vinicius']\n",
      "['Felipe']\n"
     ]
    }
   ],
   "source": [
    "lista = []\n",
    "def nomes():\n",
    "    global lista\n",
    "    nome = input('digite um nome:')\n",
    "    lista.append(nome)\n",
    "\n",
    "\n",
    "nomes()\n",
    "nomes()\n",
    "print(lista)\n",
    "\n",
    "def remover():\n",
    "    global lista\n",
    "    nome = input('Digite o nome que quer retirar:')\n",
    "    if nome in lista:\n",
    "        lista.remove(nome)\n",
    "\n",
    "remover()\n",
    "print(lista)"
   ]
  },
  {
   "cell_type": "markdown",
   "metadata": {},
   "source": [
    "Crie um caixa eletrônico: Crie uma variável global para armazenar o saldo, crie função para\n",
    "depositar e sacar, recebendo o valor como parâmetro, crie outra função para consultar o\n",
    "saldo. Crie um menu interativo com while para navegar entre as funções:\n",
    "[1] Depositar [4] Parar programa\n",
    "[2] Sacar\n",
    "[3] Consultar saldo"
   ]
  },
  {
   "cell_type": "code",
   "execution_count": 26,
   "metadata": {},
   "outputs": [
    {
     "name": "stdout",
     "output_type": "stream",
     "text": [
      "MENU\n",
      "1 depositar\n",
      "2 sacar\n",
      "3 ver saldo\n",
      "4 sair\n",
      "o seu saldo é de 1200.00\n",
      "o seu saldo é de 855.00\n",
      "o seu saldo é de 855.00\n"
     ]
    }
   ],
   "source": [
    "saldo = 0\n",
    "def depositar(valor):\n",
    "    global saldo\n",
    "    saldo=saldo+valor\n",
    "    consultar()\n",
    "def sacar(valor):\n",
    "    global saldo\n",
    "    saldo=saldo-valor\n",
    "    consultar()\n",
    "def consultar():\n",
    "    print(f'o seu saldo é de {saldo:.2f}')\n",
    "    \n",
    "print('MENU')\n",
    "print('1 depositar')\n",
    "print('2 sacar')\n",
    "print('3 ver saldo')\n",
    "print('4 sair')\n",
    "\n",
    "while True:\n",
    "  \n",
    "    opcao = input('digite a opção que desejar')\n",
    "    if opcao == '1':\n",
    "        valor = float(input('Digite o valor que deseja depositar'))\n",
    "        depositar(valor)\n",
    "    elif opcao == '2':\n",
    "        valor = float(input('Digite o valor que deseja sacar'))\n",
    "        sacar(valor)\n",
    "    elif opcao == '3':\n",
    "       consultar()\n",
    "    else:\n",
    "        break \n",
    "\n",
    "\n",
    "\n",
    "\n"
   ]
  },
  {
   "cell_type": "markdown",
   "metadata": {},
   "source": [
    "esenhando um retângulo. Crie um algoritmo que receba em variável global um caractere\n",
    "especial. Em uma função receba 2 parâmetros altura e largura e desenhe de acordo com a\n",
    "largura, a quantidade de vezes que irá repetir o caractere, e de acordo com a altura, o número\n",
    "de linhas que será desenhado. Ex: Caractere +, largura 20 altura 5:\n",
    "\n",
    "++++++++++++++++++++\n",
    "++++++++++++++++++++\n",
    "++++++++++++++++++++\n",
    "++++++++++++++++++++\n",
    "++++++++++++++++++++"
   ]
  },
  {
   "cell_type": "code",
   "execution_count": null,
   "metadata": {},
   "outputs": [],
   "source": [
    "caractere = '%'\n",
    "def desenhar(largura,altura):\n",
    "    for i in range(altura):\n",
    "        print(caractere * largura)\n",
    "desenhar(70,4)"
   ]
  }
 ],
 "metadata": {
  "kernelspec": {
   "display_name": "Python 3",
   "language": "python",
   "name": "python3"
  },
  "language_info": {
   "codemirror_mode": {
    "name": "ipython",
    "version": 3
   },
   "file_extension": ".py",
   "mimetype": "text/x-python",
   "name": "python",
   "nbconvert_exporter": "python",
   "pygments_lexer": "ipython3",
   "version": "3.12.3"
  }
 },
 "nbformat": 4,
 "nbformat_minor": 2
}
