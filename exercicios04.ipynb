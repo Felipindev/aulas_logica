{
 "cells": [
  {
   "cell_type": "markdown",
   "metadata": {},
   "source": [
    "desafio 1 - salario e valor do INSS e IRPF"
   ]
  },
  {
   "cell_type": "code",
   "execution_count": 20,
   "metadata": {},
   "outputs": [
    {
     "name": "stdout",
     "output_type": "stream",
     "text": [
      "O valor do desconto do inss é de 180.00\n",
      "O valor do desconto do irpf é de 0.00\n",
      "o valor do seu salário líquido será de 1820.0\n"
     ]
    }
   ],
   "source": [
    "salario = float(input('digite seu salario:'))\n",
    "\n",
    "#calculo do inss\n",
    "if salario <= 1412:\n",
    "    inss = salario * 0.075\n",
    "elif salario <= 2666.68:\n",
    "    inss = salario * 0.09\n",
    "elif salario <= 4000.03:\n",
    "    inss = salario * 0.12\n",
    "elif salario <= 7786.02:\n",
    "    inss = salario * 0.14\n",
    "else:\n",
    "    inss = 908.85\n",
    "print(f'O valor do desconto do inss é de {inss:.2f}')\n",
    "\n",
    "#calculo do irpf\n",
    "if salario <= 2259.20:\n",
    "    irpf = 0\n",
    "elif salario <=  2826.65:\n",
    "    irpf = 0.075 * salario\n",
    "elif salario <= 3751.05:\n",
    "    irpf = 0.15 * salario\n",
    "elif  salario <= 4664.68:\n",
    "    irpf = 0.225 * salario\n",
    "else:\n",
    "    irpf = 0.275 * salario\n",
    "print(f'O valor do desconto do irpf é de {irpf:.2f}')\n",
    "print(f'o valor do seu salário líquido será de {salario - inss - irpf}')\n"
   ]
  },
  {
   "cell_type": "markdown",
   "metadata": {},
   "source": [
    "02 - Mesma coisa mas mais requintado"
   ]
  },
  {
   "cell_type": "code",
   "execution_count": 1,
   "metadata": {},
   "outputs": [
    {
     "name": "stdout",
     "output_type": "stream",
     "text": [
      "O valor do desconto do inss é de 480.00\n",
      "O valor do desconto do irpf é de 237.23\n",
      "o valor do seu salário líquido será de 3282.77\n"
     ]
    }
   ],
   "source": [
    "salario = float(input('digite seu salario:'))\n",
    "\n",
    "#calculo do inss\n",
    "if salario <= 1412:\n",
    "    inss = salario * 0.075 \n",
    "elif salario <= 2666.68:\n",
    "    inss = salario * 0.09\n",
    "elif salario <= 4000.03:\n",
    "    inss = salario * 0.12\n",
    "elif salario <= 7786.02:\n",
    "    inss = salario * 0.14\n",
    "else:\n",
    "    inss = 908.85\n",
    "print(f'O valor do desconto do inss é de {inss:.2f}')\n",
    "\n",
    "#calculo do irpf\n",
    "if salario <= 2259.20:\n",
    "    irpf = 0\n",
    "elif salario <=  2826.65:\n",
    "    irpf = 0.075 * salario - 169.44\n",
    "elif salario <= 3751.05:\n",
    "    irpf = 0.15 * salario - 381.44\n",
    "elif  salario <= 4664.68:\n",
    "    irpf = 0.225 * salario - 662.77\n",
    "else:\n",
    "    irpf = 0.275 * salario - 896\n",
    "print(f'O valor do desconto do irpf é de {irpf:.2f}')\n",
    "print(f'o valor do seu salário líquido será de {salario - inss - irpf}')"
   ]
  }
 ],
 "metadata": {
  "kernelspec": {
   "display_name": "Python 3",
   "language": "python",
   "name": "python3"
  },
  "language_info": {
   "codemirror_mode": {
    "name": "ipython",
    "version": 3
   },
   "file_extension": ".py",
   "mimetype": "text/x-python",
   "name": "python",
   "nbconvert_exporter": "python",
   "pygments_lexer": "ipython3",
   "version": "3.12.2"
  }
 },
 "nbformat": 4,
 "nbformat_minor": 2
}
