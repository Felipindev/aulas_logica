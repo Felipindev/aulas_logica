{
 "cells": [
  {
   "cell_type": "markdown",
   "metadata": {},
   "source": [
    "0 Leitura de Tipo primitivo"
   ]
  },
  {
   "cell_type": "code",
   "execution_count": 5,
   "metadata": {},
   "outputs": [
    {
     "name": "stdout",
     "output_type": "stream",
     "text": [
      "<class 'float'>\n"
     ]
    }
   ],
   "source": [
    "\n",
    "valor = input('digite oq quiser:')\n",
    "print(type(valor))"
   ]
  },
  {
   "cell_type": "markdown",
   "metadata": {},
   "source": [
    "1 soma de dois numeros"
   ]
  },
  {
   "cell_type": "code",
   "execution_count": 2,
   "metadata": {},
   "outputs": [
    {
     "name": "stdout",
     "output_type": "stream",
     "text": [
      "10.0\n"
     ]
    }
   ],
   "source": [
    "numero_1 = float(input('digite o primeiro número'))\n",
    "numero_2 = float(input('digite o segundo número'))\n",
    "soma = numero_1 + numero_2\n",
    "print(soma)"
   ]
  },
  {
   "cell_type": "markdown",
   "metadata": {},
   "source": [
    "2 antecesssor e sucessor "
   ]
  },
  {
   "cell_type": "code",
   "execution_count": 6,
   "metadata": {},
   "outputs": [
    {
     "name": "stdout",
     "output_type": "stream",
     "text": [
      "o antecessor é 31 e o sucessor é 33\n"
     ]
    }
   ],
   "source": [
    "numero = int(input('selecione um numero'))\n",
    "sucessor = numero + 1\n",
    "antecessor = numero - 1\n",
    "print(f'o antecessor é {antecessor} e o sucessor é {sucessor}')"
   ]
  },
  {
   "cell_type": "markdown",
   "metadata": {},
   "source": [
    "3 dobro, triplo e raiz quadrada"
   ]
  },
  {
   "cell_type": "code",
   "execution_count": 9,
   "metadata": {},
   "outputs": [
    {
     "name": "stdout",
     "output_type": "stream",
     "text": [
      "o dobro é 32.0, o triplo é 48.0 e a raiz é 4.0\n"
     ]
    }
   ],
   "source": [
    "numero = float(input('selecione um numero'))\n",
    "dobro = numero * 2 \n",
    "triplo = numero * 3\n",
    "raiz_quadrada = numero ** 0.5 \n",
    "print(f'o dobro é {dobro}, o triplo é {triplo} e a raiz é {raiz_quadrada}')"
   ]
  },
  {
   "cell_type": "markdown",
   "metadata": {},
   "source": [
    "4 media das notas "
   ]
  },
  {
   "cell_type": "code",
   "execution_count": 11,
   "metadata": {},
   "outputs": [
    {
     "name": "stdout",
     "output_type": "stream",
     "text": [
      "7.5\n"
     ]
    }
   ],
   "source": [
    "nota1 = float(input('qual a sua primeira nota?'))\n",
    "nota2 = float(input('qual a sua segunda nota?'))\n",
    "print((nota1 + nota2) / 2)"
   ]
  },
  {
   "cell_type": "markdown",
   "metadata": {},
   "source": [
    "5 metros, milimetros,  centimetros"
   ]
  },
  {
   "cell_type": "code",
   "execution_count": 7,
   "metadata": {},
   "outputs": [
    {
     "name": "stdout",
     "output_type": "stream",
     "text": [
      "a metragem é 1.0, que equivalem a 100.0 centimetros e 1000.0 milimetros\n"
     ]
    }
   ],
   "source": [
    "metros = float(input('qual a quantia de metros?'))\n",
    "centimetros = metros * 100\n",
    "milimetros = centimetros * 10\n",
    "print(f'a metragem é {metros}, que equivalem a {centimetros} centimetros e {milimetros} milimetros')"
   ]
  },
  {
   "cell_type": "markdown",
   "metadata": {},
   "source": [
    "6 tabuada"
   ]
  },
  {
   "cell_type": "code",
   "execution_count": 8,
   "metadata": {},
   "outputs": [
    {
     "name": "stdout",
     "output_type": "stream",
     "text": [
      "17 = 17 x 1\n",
      "34 = 17 x 2\n",
      "51 = 17 x 3\n",
      "68 = 17 x 4\n",
      "85 = 17 x 5\n",
      "102 = 17 x 6\n",
      "119 = 17 x 7\n",
      "136 = 17 x 8\n",
      "153 = 17 x 9\n",
      "170= 17 x 10\n"
     ]
    }
   ],
   "source": [
    "numero = int(input('escolha um numero:'))\n",
    "print(f'{numero * 1} = {numero} x 1')\n",
    "print(f'{numero * 2} = {numero} x 2')\n",
    "print(f'{numero * 3} = {numero} x 3')\n",
    "print(f'{numero * 4} = {numero} x 4')\n",
    "print(f'{numero * 5} = {numero} x 5')\n",
    "print(f'{numero * 6} = {numero} x 6')\n",
    "print(f'{numero * 7} = {numero} x 7')\n",
    "print(f'{numero * 8} = {numero} x 8')\n",
    "print(f'{numero * 9} = {numero} x 9')\n",
    "print(f'{numero * 10}= {numero} x 10')"
   ]
  },
  {
   "cell_type": "markdown",
   "metadata": {},
   "source": [
    "7 real pra dolar"
   ]
  },
  {
   "cell_type": "code",
   "execution_count": 3,
   "metadata": {},
   "outputs": [
    {
     "name": "stdout",
     "output_type": "stream",
     "text": [
      "vc tem no total 100.20040080160321 dólares\n"
     ]
    }
   ],
   "source": [
    "real = float(input('Quantos reais vc tem?'))\n",
    "total = real / 4.99\n",
    "print(f'vc tem no total {total:.2f} dólares')"
   ]
  },
  {
   "cell_type": "markdown",
   "metadata": {},
   "source": [
    "8 largura, altura, e quantia de tintas"
   ]
  },
  {
   "cell_type": "code",
   "execution_count": 9,
   "metadata": {},
   "outputs": [
    {
     "name": "stdout",
     "output_type": "stream",
     "text": [
      "numa area de 400.0 m², vc precisa de 200.0 litros de tinta\n"
     ]
    }
   ],
   "source": [
    "largura = float(input(\"qual a largura da parede?\"))\n",
    "altura = float(input(\"qual a altura da parede?\"))\n",
    "area = (largura * altura) \n",
    "litros = area / 2\n",
    "print(f'numa area de {area} m², vc precisa de {litros} litros de tinta')\n"
   ]
  },
  {
   "cell_type": "markdown",
   "metadata": {},
   "source": [
    "9 - preço e desconto"
   ]
  },
  {
   "cell_type": "code",
   "execution_count": 5,
   "metadata": {},
   "outputs": [
    {
     "name": "stdout",
     "output_type": "stream",
     "text": [
      "o valor de seu celular sairá 1425.0\n"
     ]
    }
   ],
   "source": [
    "valor_celular = float(input(\"qual o valor do celular?\"))\n",
    "desconto = (5/100) * valor_celular\n",
    "valor_final = valor_celular - desconto\n",
    "print(f'o valor de seu celular sairá {valor_final}')"
   ]
  },
  {
   "cell_type": "markdown",
   "metadata": {},
   "source": [
    "10 - salario e aumento"
   ]
  },
  {
   "cell_type": "code",
   "execution_count": 6,
   "metadata": {},
   "outputs": [
    {
     "name": "stdout",
     "output_type": "stream",
     "text": [
      "o novo valor de seu salario é 2875.0\n"
     ]
    }
   ],
   "source": [
    "salario = float(input('digite o valor do seu salario:'))\n",
    "aumento = 15/100 * salario\n",
    "salario_final = salario + aumento\n",
    "print(f'o novo valor de seu salario é {salario_final}')"
   ]
  },
  {
   "cell_type": "markdown",
   "metadata": {},
   "source": [
    "11 - Celcius para Fahrenheit"
   ]
  },
  {
   "cell_type": "code",
   "execution_count": 2,
   "metadata": {},
   "outputs": [
    {
     "name": "stdout",
     "output_type": "stream",
     "text": [
      "para 55.0 C° a conversão é 131.0 F°\n"
     ]
    }
   ],
   "source": [
    "celcius = float(input('descreva a temperatura em celcius:'))\n",
    "fahrenheit = (celcius *9) /5 + 32\n",
    "print(f'para {celcius} C° a conversão é {fahrenheit} F°')"
   ]
  },
  {
   "cell_type": "markdown",
   "metadata": {},
   "source": [
    "12 - carro alugado"
   ]
  },
  {
   "cell_type": "code",
   "execution_count": 1,
   "metadata": {},
   "outputs": [
    {
     "name": "stdout",
     "output_type": "stream",
     "text": [
      "o total é R$ 418.35\n"
     ]
    }
   ],
   "source": [
    "dias = int(input('digite a quantia de dias que ficou com o carro:'))\n",
    "km = float(input('digite a quilometragem total:'))\n",
    "total = (dias * 60) + (km * 0.15)\n",
    "print(f'o total é R$ {total:.2f}')"
   ]
  }
 ],
 "metadata": {
  "kernelspec": {
   "display_name": "Python 3",
   "language": "python",
   "name": "python3"
  },
  "language_info": {
   "codemirror_mode": {
    "name": "ipython",
    "version": 3
   },
   "file_extension": ".py",
   "mimetype": "text/x-python",
   "name": "python",
   "nbconvert_exporter": "python",
   "pygments_lexer": "ipython3",
   "version": "3.12.3"
  }
 },
 "nbformat": 4,
 "nbformat_minor": 2
}
