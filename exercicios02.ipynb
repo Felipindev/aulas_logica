{
 "cells": [
  {
   "cell_type": "markdown",
   "metadata": {},
   "source": [
    "0 apresentar a media"
   ]
  },
  {
   "cell_type": "code",
   "execution_count": 3,
   "metadata": {},
   "outputs": [
    {
     "name": "stdout",
     "output_type": "stream",
     "text": [
      "reprovado\n"
     ]
    }
   ],
   "source": [
    "nota1 = float(input('qual a sua primeira nota?'))\n",
    "nota2 = float(input('qual a sua segunda nota?'))\n",
    "media = (nota1 + nota2)/2\n",
    "if media >= 7:\n",
    "    print('aprovado')\n",
    "else:\n",
    "    print('reprovado')\n"
   ]
  },
  {
   "cell_type": "markdown",
   "metadata": {},
   "source": [
    "1 numero maior e menor"
   ]
  },
  {
   "cell_type": "code",
   "execution_count": 5,
   "metadata": {},
   "outputs": [
    {
     "name": "stdout",
     "output_type": "stream",
     "text": [
      "numero 10.0é maior, e numero 4.0 é menor \n"
     ]
    }
   ],
   "source": [
    "n1 = float(input('digite o 1° numero'))\n",
    "n2 = float(input('digite o 2° numero'))\n",
    "if n1 >2:\n",
    "    print(f'numero {n1} é maior, e numero {n2} é menor ')\n",
    "else:\n",
    "    print(f'numero {n2}é maior, e numero {n1} é menor ')\n"
   ]
  },
  {
   "cell_type": "markdown",
   "metadata": {},
   "source": [
    "par ou impar"
   ]
  },
  {
   "cell_type": "code",
   "execution_count": 6,
   "metadata": {},
   "outputs": [
    {
     "name": "stdout",
     "output_type": "stream",
     "text": [
      "12 é par\n"
     ]
    }
   ],
   "source": [
    "n= int(input('digite seu numero:'))\n",
    "if n %2 == 0:\n",
    "    print(f'{n} é par')\n",
    "else: \n",
    "    print(f'{n} é impar')"
   ]
  },
  {
   "cell_type": "markdown",
   "metadata": {},
   "source": [
    "negativo e positivo"
   ]
  },
  {
   "cell_type": "code",
   "execution_count": 9,
   "metadata": {},
   "outputs": [
    {
     "name": "stdout",
     "output_type": "stream",
     "text": [
      "o numero é negativo\n"
     ]
    }
   ],
   "source": [
    "n = float(input('digite o numero:'))\n",
    "if n <= 0:\n",
    "    print(f'o numero é negativo')\n",
    "else:\n",
    "    print(f'o numero é positivo')"
   ]
  },
  {
   "cell_type": "markdown",
   "metadata": {},
   "source": [
    "ano de nascimento e diga se é maior de idade"
   ]
  },
  {
   "cell_type": "code",
   "execution_count": 11,
   "metadata": {},
   "outputs": [
    {
     "name": "stdout",
     "output_type": "stream",
     "text": [
      "vc é maior de idade\n"
     ]
    }
   ],
   "source": [
    "ano = int(input('digite o ano de nascimento'))\n",
    "if ano < 2006:\n",
    "    print('vc é maior de idade')\n",
    "else:\n",
    "    print('vc é menor de idade')"
   ]
  },
  {
   "cell_type": "markdown",
   "metadata": {},
   "source": [
    "iguais ou diferentes"
   ]
  },
  {
   "cell_type": "code",
   "execution_count": 12,
   "metadata": {},
   "outputs": [
    {
     "name": "stdout",
     "output_type": "stream",
     "text": [
      "os numeros sao iguais\n"
     ]
    }
   ],
   "source": [
    "n1 = int(input('digite o primeiro numero'))\n",
    "n2 = int(input('digite o segundo numero'))\n",
    "if n1 == n2:\n",
    "    print('os numeros sao iguais')\n",
    "else:\n",
    "    print('os numeros sao diferentes')"
   ]
  },
  {
   "cell_type": "markdown",
   "metadata": {},
   "source": [
    "valor da multa"
   ]
  },
  {
   "cell_type": "code",
   "execution_count": 34,
   "metadata": {},
   "outputs": [
    {
     "name": "stdout",
     "output_type": "stream",
     "text": [
      "vc não foi multado\n"
     ]
    }
   ],
   "source": [
    "velocidade = float(input('digite a velocidade do carro'))\n",
    "if velocidade > 80:\n",
    "    print('multado')\n",
    "    print((velocidade - 80) * 7)\n",
    "else: \n",
    "    print('vc não foi multado')"
   ]
  },
  {
   "cell_type": "markdown",
   "metadata": {},
   "source": [
    "receba 3 numeros, ordem crescente."
   ]
  },
  {
   "cell_type": "code",
   "execution_count": 38,
   "metadata": {},
   "outputs": [
    {
     "name": "stdout",
     "output_type": "stream",
     "text": [
      "nao estao em ordem crescente\n"
     ]
    }
   ],
   "source": [
    "numero1 = float(input('digite o primeiro numero:'))\n",
    "numero2 = float(input('digite o  numero:'))\n",
    "numero3 = float(input('digite o terceiro numero:'))\n",
    "if numero1 < numero2 < numero3:\n",
    "    print(numero1, numero2, numero3)\n",
    "    print('estão em ordem crescente')\n",
    "else:\n",
    "    print('nao estao em ordem crescente')"
   ]
  },
  {
   "cell_type": "markdown",
   "metadata": {},
   "source": [
    "preço com 10 porcento de desconto acima de 100"
   ]
  },
  {
   "cell_type": "code",
   "execution_count": 20,
   "metadata": {},
   "outputs": [
    {
     "name": "stdout",
     "output_type": "stream",
     "text": [
      "vc recebeu 10 porcento de desconto\n",
      "900.0\n"
     ]
    }
   ],
   "source": [
    "preço = float(input('digite o preço do celular:'))\n",
    "desconto = (10/100) * preço \n",
    "valor = preço - desconto\n",
    "if preço > 100:\n",
    "    print('vc recebeu 10 porcento de desconto')\n",
    "    print(valor)\n",
    "else:\n",
    "    print(preço)"
   ]
  },
  {
   "cell_type": "markdown",
   "metadata": {},
   "source": [
    "verificação de triangulo "
   ]
  },
  {
   "cell_type": "code",
   "execution_count": 25,
   "metadata": {},
   "outputs": [
    {
     "name": "stdout",
     "output_type": "stream",
     "text": [
      "nao é um triangulo\n"
     ]
    }
   ],
   "source": [
    "lado1 = float(input('digite o valor de um lado:'))\n",
    "lado2 = float(input('digite o valor de outro lado:'))\n",
    "lado3 = float(input('digite o valor do terceiro lado:'))\n",
    "if lado1 + lado2 > lado3:\n",
    "    if lado2 + lado3 > lado1:\n",
    "        if lado3 + lado1> lado2:\n",
    "            print('é um triangulo')\n",
    "else: \n",
    "    print('nao é um triangulo')\n"
   ]
  },
  {
   "cell_type": "markdown",
   "metadata": {},
   "source": [
    "troque os valores das variaveis"
   ]
  },
  {
   "cell_type": "code",
   "execution_count": 19,
   "metadata": {},
   "outputs": [
    {
     "name": "stdout",
     "output_type": "stream",
     "text": [
      "(2.0, 1.0)\n"
     ]
    }
   ],
   "source": [
    "valorA = float(input('digite um valor'))\n",
    "valorB = float(input('digite outro valor'))\n",
    "valor_a = (valorA + valorB) - valorA\n",
    "valor_b = (valorB + valorA) - valorB\n",
    "print(f'{valor_a,valor_b}')"
   ]
  },
  {
   "cell_type": "markdown",
   "metadata": {},
   "source": [
    "mema coisa, mas sem variaveis adicionais "
   ]
  },
  {
   "cell_type": "code",
   "execution_count": null,
   "metadata": {},
   "outputs": [],
   "source": []
  }
 ],
 "metadata": {
  "kernelspec": {
   "display_name": "Python 3",
   "language": "python",
   "name": "python3"
  },
  "language_info": {
   "codemirror_mode": {
    "name": "ipython",
    "version": 3
   },
   "file_extension": ".py",
   "mimetype": "text/x-python",
   "name": "python",
   "nbconvert_exporter": "python",
   "pygments_lexer": "ipython3",
   "version": "3.12.2"
  }
 },
 "nbformat": 4,
 "nbformat_minor": 2
}
